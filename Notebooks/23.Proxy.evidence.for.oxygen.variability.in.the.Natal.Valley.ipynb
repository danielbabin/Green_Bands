{
 "cells": [
  {
   "cell_type": "markdown",
   "id": "644eecd3-2a77-42da-99ce-f39e396f7377",
   "metadata": {},
   "source": [
    "# 23. Proxy evidence for oxygen variability in the Natal Valley\n",
    "Here we use authigenic uranium data from [Bard and Rickaby (2009) \"Migration of the subtropical front as a modulator of glacial climate\"](https://www.nature.com/articles/nature08189) as a proxy for bottom water oxygen to connect long term trends in bottom water oxygen to long term trends in green band formation."
   ]
  },
  {
   "cell_type": "markdown",
   "id": "6eda2ff0-8b9d-4c59-8de5-dbaf285a3362",
   "metadata": {},
   "source": [
    "## Setup\n",
    "### Import modules"
   ]
  },
  {
   "cell_type": "code",
   "execution_count": 1,
   "id": "c69cd548-3a74-4f75-8d3e-3eae2b3f5750",
   "metadata": {
    "tags": []
   },
   "outputs": [],
   "source": [
    "import pandas as pd\n",
    "import matplotlib.pyplot as plt\n",
    "import matplotlib.gridspec as gridspec\n",
    "import matplotlib.image as mpimg\n",
    "from matplotlib.ticker import AutoMinorLocator\n",
    "from scipy import signal,interpolate,stats,linalg\n",
    "from IPython.display import clear_output\n",
    "import time\n",
    "import numpy as np\n",
    "import seaborn as sns\n",
    "%matplotlib inline\n",
    "from matplotlib.patches import Patch"
   ]
  },
  {
   "cell_type": "markdown",
   "id": "7ab453a9-fc54-4250-91a1-9c27e65cca28",
   "metadata": {},
   "source": [
    "### Set paths"
   ]
  },
  {
   "cell_type": "code",
   "execution_count": 2,
   "id": "62a77182-5b87-44f2-8f7a-9c81b8ba0539",
   "metadata": {
    "tags": []
   },
   "outputs": [],
   "source": [
    "data_path='/Users/danielbabin/GitHub/Green_Bands/Data/'\n",
    "table_path='/Users/danielbabin/GitHub/Green_Bands/Tables/'\n",
    "core_photos='/Users/danielbabin/GitHub/Green_Bands/CorePhotos/LowRes/'\n",
    "figure_path='/Users/danielbabin/GitHub/Green_Bands/Figures/Main/'\n",
    "sup_figure_path='/Users/danielbabin/GitHub/Green_Bands/Figures/Supplementary/'\n",
    "misc_path='/Users/danielbabin/GitHub/Green_Bands/Data/Misc/'\n",
    "checkpoints_path='/Users/danielbabin/GitHub/Green_Bands/Data/Checkpoints/'"
   ]
  },
  {
   "cell_type": "markdown",
   "id": "109e93bc-8427-41f8-a6e2-779f7138946e",
   "metadata": {},
   "source": [
    "### Import data\n",
    "#### Glacials"
   ]
  },
  {
   "cell_type": "code",
   "execution_count": 3,
   "id": "e568fe07-49a6-4faa-a08e-0db37c44a340",
   "metadata": {
    "tags": []
   },
   "outputs": [],
   "source": [
    "glacials=[[14, 29],[57, 71],[130, 191],[243, 300],[337, 374],[424, 478],[524, 563],[621, 676],\n",
    "          [712, 761],[790, 814],[866, 900],[917, 936],[959, 970],[982, 1014],[1031, 1062],[1081,1104],\n",
    "          [1114, 1141],[1190,1215],[1240,1265],[1285,1300]]\n",
    "terminations=[[14,20],[130,140],[243,253],[337,347],[424,432],[529,535],[622,632]]"
   ]
  },
  {
   "cell_type": "markdown",
   "id": "14345de2-b220-41b4-bd33-fca3a47aff58",
   "metadata": {},
   "source": [
    "#### Green bands"
   ]
  },
  {
   "cell_type": "code",
   "execution_count": 4,
   "id": "b683e506-2cd4-4de6-bdf2-10c48debb99a",
   "metadata": {
    "tags": []
   },
   "outputs": [],
   "source": [
    "green_layers_U1474=pd.read_csv(table_path+'Supplementary Table 6A - U1474 green bands.csv')\n",
    "green_layers_1313=pd.read_csv(table_path+'Supplementary Table 6B - U1313 green bands.csv')"
   ]
  },
  {
   "cell_type": "code",
   "execution_count": 5,
   "id": "a0c14bf4-d193-4436-8fed-a12669ee19cc",
   "metadata": {},
   "outputs": [],
   "source": [
    "submission_path='/Users/danielbabin/GitHub/Natal_Valley_Green_Layers/Manuscript/Initial Submission/'"
   ]
  },
  {
   "cell_type": "code",
   "execution_count": 6,
   "id": "bac4afdf-2b2a-4e1d-a588-5eeb0d8f0688",
   "metadata": {
    "tags": []
   },
   "outputs": [],
   "source": [
    "green_true_U1474=green_layers_U1474.copy()\n",
    "\n",
    "green_layers_1313['Class']=green_layers_1313['Label']-1\n",
    "green_true_1313=green_layers_1313[green_layers_1313['Class']>0].copy()"
   ]
  },
  {
   "cell_type": "code",
   "execution_count": 7,
   "id": "d222805b-7a2d-4099-b0b6-4d09678e9b8e",
   "metadata": {
    "tags": []
   },
   "outputs": [],
   "source": [
    "amU1474=pd.read_csv(table_path+'Supplementary Table 2 - Age-depth model.csv')\n",
    "amU1474['Top Interval Depth CCSF (m)']=amU1474['Depth CCSF (m)'].shift(1)\n",
    "amU1474['Top Interval Age (kyr)']=amU1474['Age (kyr)'].shift(1)\n",
    "famU1474=interpolate.interp1d(amU1474['Depth CCSF (m)'],amU1474['Age (kyr)'],bounds_error=False)"
   ]
  },
  {
   "cell_type": "code",
   "execution_count": 8,
   "id": "52e83a89-b642-470d-a1d2-87a7f3c04941",
   "metadata": {
    "tags": []
   },
   "outputs": [],
   "source": [
    "am1313=pd.read_csv(misc_path+'1313_age_model_L*.csv')\n",
    "fam1313=interpolate.interp1d(am1313['Depth (mcd)'],am1313['Age (ka)'],bounds_error=False)"
   ]
  },
  {
   "cell_type": "code",
   "execution_count": 9,
   "id": "820d7d1f-1f03-4a7f-b23c-a500e9b577f8",
   "metadata": {
    "tags": []
   },
   "outputs": [],
   "source": [
    "green_true_U1474['Top Age (kyr)']=famU1474(green_true_U1474['Top Depth CCSF (m)'])\n",
    "green_true_U1474['Bottom Age (kyr)']=famU1474(green_true_U1474['Bottom Depth CCSF (m)'])\n",
    "agtU1474=green_true_U1474[~green_true_U1474['Top Age (kyr)'].isnull()].set_index('Top Age (kyr)').sort_index()"
   ]
  },
  {
   "cell_type": "code",
   "execution_count": 10,
   "id": "04968870-6707-4af6-af38-89eee4bb684d",
   "metadata": {
    "tags": []
   },
   "outputs": [],
   "source": [
    "green_true_1313['Top Age (kyr)']=fam1313(green_true_1313['Top Depth CCSF (m)'])\n",
    "green_true_1313['Bottom Age (kyr)']=fam1313(green_true_1313['Bottom Depth CCSF (m)'])\n",
    "agt1313=green_true_1313[~green_true_1313['Top Age (kyr)'].isnull()].set_index('Top Age (kyr)').sort_index()"
   ]
  },
  {
   "cell_type": "markdown",
   "id": "1c6be4f2-6113-40e6-922e-995c06aa5fe1",
   "metadata": {},
   "source": [
    "## N events per stage\n",
    "To get a kind of running average of both green band formation and the bottom water oxygen proxy, authigenic uranium, we calculate\n",
    "1. Number of green band events per marine isotope stage\n",
    "2. The average concentration of authigenic uranium in sediment\n",
    "\n",
    "for each marine isotope stage"
   ]
  },
  {
   "cell_type": "markdown",
   "id": "9a06a421-b37e-42aa-a673-7f89f97a4fc9",
   "metadata": {},
   "source": [
    "### Import depth boundaries for isotope stages at U1474"
   ]
  },
  {
   "cell_type": "code",
   "execution_count": 11,
   "id": "7e67fa21-13a5-480b-8b40-6a8770743579",
   "metadata": {},
   "outputs": [],
   "source": [
    "depths_MIS=pd.read_csv(checkpoints_path+'U1474 Marine Isotope Stage Depths.csv',index_col='MIS')"
   ]
  },
  {
   "cell_type": "code",
   "execution_count": 12,
   "id": "6a6d11ff-36d4-45ce-a470-130e5b483824",
   "metadata": {},
   "outputs": [],
   "source": [
    "depths_MIS_no234=depths_MIS.copy()"
   ]
  },
  {
   "cell_type": "markdown",
   "id": "abf3d90c-7183-447a-8a52-26d9619b229e",
   "metadata": {},
   "source": [
    "### Combine 2, 3 and 4\n",
    "MIS 3 is not a real interglacial y'all"
   ]
  },
  {
   "cell_type": "code",
   "execution_count": 13,
   "id": "328d7ca4-5936-42ec-9b81-6aa6fcc5710e",
   "metadata": {},
   "outputs": [],
   "source": [
    "depths_MIS_no234.loc[2,['Bottom Depth (m)','Bottom Age (kyr)']]=depths_MIS_no234.loc[5,['Top Depth (m)',\n",
    "                                                                                        'Top Age (kyr)']].values\n",
    "depths_MIS_no234=depths_MIS_no234.drop([3,4])"
   ]
  },
  {
   "cell_type": "code",
   "execution_count": 14,
   "id": "6e4439e3-1a19-40c6-84b4-a3c9b06aa631",
   "metadata": {},
   "outputs": [],
   "source": [
    "depths_MIS_no234.loc[2,'Duration (kyr)']=(depths_MIS_no234.loc[2,'Bottom Age (kyr)']-\n",
    "                                          depths_MIS_no234.loc[2,'Top Age (kyr)'])\n",
    "depths_MIS_no234.loc[2,'Thickness (cm)']=(depths_MIS_no234.loc[2,'Bottom Depth (m)']-\n",
    "                                          depths_MIS_no234.loc[2,'Top Depth (m)'])*100\n",
    "depths_MIS_no234.loc[2,'Sedimentation Rate (cm/kyr)']=(depths_MIS_no234.loc[2,'Thickness (cm)']/\n",
    "                                                       depths_MIS_no234.loc[2,'Duration (kyr)'])"
   ]
  },
  {
   "cell_type": "markdown",
   "id": "5972d101-cbc9-4962-ad61-c97deb682090",
   "metadata": {},
   "source": [
    "### Green banding counts"
   ]
  },
  {
   "cell_type": "code",
   "execution_count": 15,
   "id": "5fdec67a-cb35-4225-abd4-41a44ba59001",
   "metadata": {},
   "outputs": [],
   "source": [
    "green_per=pd.DataFrame(index=depths_MIS_no234.index)\n",
    "\n",
    "for i,mis in enumerate(depths_MIS_no234.index):\n",
    "    start=depths_MIS_no234.loc[mis,'Bottom Age (kyr)']\n",
    "    end=depths_MIS_no234.loc[mis,'Top Age (kyr)']\n",
    "    duration=depths_MIS_no234.loc[mis,'Duration (kyr)']\n",
    "    \n",
    "    slc=agtU1474.loc[end:start]\n",
    "    \n",
    "    ### thickness and numbers\n",
    "    green_per.loc[mis,'U1474 n']=slc.shape[0]\n",
    "    green_per.loc[mis,'U1474 n/kyr']=(green_per.loc[mis,'U1474 n']/duration)\n",
    "    green_per.loc[mis,'U1474 Thickness']=slc['Thickness (cm)'].sum()\n",
    "    green_per.loc[mis,'U1474 Thickness/kyr']=green_per.loc[mis,'U1474 Thickness']/duration\n",
    "\n",
    "for i,mis in enumerate(depths_MIS_no234.index):\n",
    "    start=depths_MIS_no234.loc[mis,'Bottom Age (kyr)']\n",
    "    end=depths_MIS_no234.loc[mis,'Top Age (kyr)']\n",
    "    duration=depths_MIS_no234.loc[mis,'Duration (kyr)']\n",
    "    \n",
    "    slc=agt1313.loc[end:start]\n",
    "    \n",
    "    ### thickness and numbers\n",
    "    green_per.loc[mis,'1313 n']=slc.shape[0]\n",
    "    green_per.loc[mis,'1313 n/kyr']=(green_per.loc[mis,'1313 n']/duration)\n",
    "    # green_per.loc[mis,'Thickness (cm)']=slc['thickness'].sum()\n",
    "    green_per.loc[mis,'1313 Thickness']=slc['Thickness (cm)'].sum()\n",
    "    green_per.loc[mis,'1313 Thickness/kyr']=green_per.loc[mis,'1313 Thickness']/duration\n",
    "\n",
    "green_per['both n']=green_per['U1474 n']+green_per['1313 n']\n",
    "green_per['both n/kyr']=green_per['U1474 n/kyr']+green_per['1313 n/kyr']\n",
    "green_per['both Thickness']=green_per['U1474 Thickness']+green_per['1313 Thickness']\n",
    "green_per['both Thickness/kyr']=green_per['U1474 Thickness/kyr']+green_per['1313 Thickness/kyr']\n",
    "\n",
    "### Ages\n",
    "col_list=['Top Age (kyr)','Bottom Age (kyr)','Duration (kyr)']\n",
    "green_per[col_list]=depths_MIS_no234[col_list]"
   ]
  },
  {
   "cell_type": "markdown",
   "id": "c7fdc28c-fc8c-48ee-b55c-79616f62d66e",
   "metadata": {},
   "source": [
    "### Authigenic Uranium averages"
   ]
  },
  {
   "cell_type": "code",
   "execution_count": 16,
   "id": "16405c4a-510e-4489-9ad2-094fcfec3131",
   "metadata": {},
   "outputs": [],
   "source": [
    "bard=pd.read_csv(misc_path+'MD96-2077_proxy_data.csv',index_col='Age (kyr) EB-FR 17/0/07')"
   ]
  },
  {
   "cell_type": "code",
   "execution_count": 17,
   "id": "66b1aff6-b066-49c5-a0cb-20de34d3ee6f",
   "metadata": {},
   "outputs": [],
   "source": [
    "bard_GIG=pd.DataFrame(columns=['mean U auth','mean TOC','std TOC','sed rate','density'])"
   ]
  },
  {
   "cell_type": "code",
   "execution_count": 18,
   "id": "f5d002b9-ae36-4b90-b14b-de832121daa9",
   "metadata": {},
   "outputs": [],
   "source": [
    "bard['depth m']=bard['depth cm']/100"
   ]
  },
  {
   "cell_type": "code",
   "execution_count": 19,
   "id": "390615e5-d24d-4743-9fc2-26c53c9dc0f8",
   "metadata": {},
   "outputs": [],
   "source": [
    "am_bard=interpolate.interp1d(bard['depth m'],bard.index,bounds_error=False)"
   ]
  },
  {
   "cell_type": "code",
   "execution_count": 20,
   "id": "bf9f5a2b-19d9-49e9-b5ae-057bbbbf42ec",
   "metadata": {},
   "outputs": [],
   "source": [
    "pp=pd.read_csv(misc_path+'MD96-2077_physical_properties.tab',sep='\\t',header=15)\n",
    "pp['Age (kyr)']=am_bard(pp['Depth [m]'])\n",
    "pp=pp[~pp['Age (kyr)'].isnull()]\n",
    "app=pp.set_index('Age (kyr)')"
   ]
  },
  {
   "cell_type": "code",
   "execution_count": 21,
   "id": "a7b48554-bee9-4dfa-ba4e-c39e01734f74",
   "metadata": {},
   "outputs": [],
   "source": [
    "for i in depths_MIS.index:\n",
    "    top_age=depths_MIS.loc[i,'Top Age (kyr)']\n",
    "    bot_age=depths_MIS.loc[i,'Bottom Age (kyr)']\n",
    "    top_depth=bard.loc[top_age:bot_age,'depth cm'].min()\n",
    "    bot_depth=bard.loc[top_age:bot_age,'depth cm'].max()\n",
    "    thickness=bot_depth-top_depth\n",
    "    duration=bot_age-top_age\n",
    "    bard_GIG.loc[i,'mean U auth']=bard.loc[top_age:bot_age,'Uauth ppm cfb'].mean()\n",
    "#     bard_GIG.loc[i,'std U auth']=bard.loc[top_age:bot_age,'Uauth ppm cfb'].std()\n",
    "    bard_GIG.loc[i,'mean TOC']=bard.loc[top_age:bot_age,'%TOC'].mean()\n",
    "    bard_GIG.loc[i,'std TOC']=bard.loc[top_age:bot_age,'%TOC'].std()\n",
    "    bard_GIG.loc[i,'sed rate']=thickness/duration\n",
    "    bard_GIG.loc[i,'density']=app.loc[top_age:bot_age,'WBD [g/cm**3]'].mean()\n",
    "bard_GIG.loc[1,'density']=bard_GIG.loc[2,'density']\n",
    "bard_GIG.loc[20,'std TOC']=0\n",
    "bard_GIG=bard_GIG.dropna().copy()\n",
    "\n",
    "col_list=['Top Age (kyr)','Bottom Age (kyr)','Duration (kyr)']\n",
    "bard_GIG[col_list]=depths_MIS_no234[col_list]"
   ]
  },
  {
   "cell_type": "markdown",
   "id": "c48bc6b4-b269-4aa8-9d7e-9613a986a7fe",
   "metadata": {},
   "source": [
    "## Make figure"
   ]
  },
  {
   "cell_type": "code",
   "execution_count": 22,
   "id": "242844a8-75f3-4b57-892f-705aea0a0da5",
   "metadata": {},
   "outputs": [
    {
     "data": {
      "image/png": "[encoded data removed]",
      "text/plain": [
       "<Figure size 900x400 with 2 Axes>"
      ]
     },
     "metadata": {},
     "output_type": "display_data"
    }
   ],
   "source": [
    "fig,axes=plt.subplots(nrows=2,sharex=True,figsize=(9,4))\n",
    "\n",
    "sns.despine(ax=axes[0],bottom=True,top=False,right=True)\n",
    "sns.despine(ax=axes[1],bottom=False,top=True,right=False,left=True)\n",
    "\n",
    "for ax in axes:\n",
    "    ax.patch.set_visible(False)\n",
    "for ax in [axes[1]]:\n",
    "    ax.yaxis.tick_right()\n",
    "    ax.yaxis.set_label_position('right')\n",
    "\n",
    "ax=axes[0]\n",
    "gsed=bard_GIG[bard_GIG.index%2==0]\n",
    "igsed=bard_GIG[bard_GIG.index%2==1]\n",
    "\n",
    "col='mean U auth'\n",
    "# col='n/per kyr'\n",
    "# col='Thickness (cm)'\n",
    "# col='Thickness per kyr'\n",
    "ax.bar(gsed['Top Age (kyr)'],gsed[col],gsed['Duration (kyr)'],\n",
    "       align='edge',label='Glacial',alpha=1,color='#6A5ACD',ec='k')\n",
    "ax.bar(igsed['Top Age (kyr)'],igsed[col],igsed['Duration (kyr)'],\n",
    "       align='edge',label='Interglacial',alpha=1,color='#9B5FC0',ec='k')\n",
    "ax.invert_yaxis()\n",
    "\n",
    "# ax.scatter(bard['Uauth ppm cfb'].index,bard['Uauth ppm cfb'].values,color='k',alpha=.2,s=3)\n",
    "\n",
    "custom_lines = [Patch(color='#9B5FC0', ec='k'),\n",
    "                Patch(color='#6A5ACD', ec='k')]\n",
    "legend=ax.legend(custom_lines, ['Interglacial','Glacial'],loc=(.03,.36),\n",
    "          edgecolor='None', fontsize=9)\n",
    "legend.get_frame().set_alpha(None)\n",
    "legend.get_frame().set_facecolor((0, 0, 0, 0))\n",
    "ax.annotate('Natal Valley Site MD96-2077',xy=(30,1.3),xycoords='data',va='bottom',ha='left',fontsize=9)\n",
    "\n",
    "# ax.set_ylim(6,0)\n",
    "ax.set_ylabel('Authigenic Uranium (ppm)')\n",
    "\n",
    "ax=axes[1]\n",
    "gsed=green_per[green_per.index%2==0]\n",
    "igsed=green_per[green_per.index%2==1]\n",
    "\n",
    "col='U1474 n'\n",
    "# col='n/per kyr'\n",
    "# col='Thickness (cm)'\n",
    "# col='Thickness per kyr'\n",
    "ax.bar(gsed['Top Age (kyr)'],gsed[col],gsed['Duration (kyr)'],\n",
    "       align='edge',label='Glacial',alpha=1,color='#3CB371',ec='k')\n",
    "ax.bar(igsed['Top Age (kyr)'],igsed[col],igsed['Duration (kyr)'],\n",
    "       align='edge',label='Interglacial',alpha=1,color='#9ACD32',ec='k')\n",
    "\n",
    "ax.set_ylabel('Green Bands (n)')\n",
    "\n",
    "custom_lines = [Patch(color='#3CB371', ec='k'),\n",
    "                Patch(color='#9ACD32', ec='k')]\n",
    "legend=ax.legend(custom_lines, ['Interglacial','Glacial'],loc=(.03,.36),\n",
    "          edgecolor='None', fontsize=9)\n",
    "legend.get_frame().set_alpha(None)\n",
    "legend.get_frame().set_facecolor((0, 0, 0, 0))\n",
    "ax.annotate('Natal Valley Site U1474',xy=(30,20),xycoords='data',va='bottom',ha='left',fontsize=9)\n",
    "\n",
    "ax.set_xlim(0,850)\n",
    "ax.set_xlabel('Age [ka BP]')\n",
    "\n",
    "ax.annotate('',xy=(-.065,2),xytext=(-.065,0),ha='center',va='top',xycoords='axes fraction',\n",
    "            arrowprops=dict(arrowstyle=\"<-\"),rotation=90,fontweight='bold')\n",
    "ax.annotate('Bottom Water Oxygen',xy=(-.08,1),ha='center',va='center',xycoords='axes fraction',rotation=90)\n",
    "\n",
    "letters=['A','B']\n",
    "for n,ax in enumerate([axes[0],axes[1]]):\n",
    "    ax.annotate(letters[n],xy=(.99,.95),xycoords='axes fraction',ha='right',va='top',fontsize=12,fontweight='bold',\n",
    "                bbox=dict(facecolor='w', edgecolor='k',boxstyle='round,pad=.2'))\n",
    "\n",
    "plt.tight_layout()\n",
    "plt.subplots_adjust(hspace=-.1)\n",
    "fig.savefig(sup_figure_path+'Extended Data Figure 10 - Proxy evidence for oxygen variability in the Natal Valley.png',dpi=300)"
   ]
  },
  {
   "cell_type": "code",
   "execution_count": null,
   "id": "b5e0a1ba-67fd-44c3-b651-d0258d96c5e3",
   "metadata": {},
   "outputs": [],
   "source": []
  }
 ],
 "metadata": {
  "kernelspec": {
   "display_name": "Python 3 (ipykernel)",
   "language": "python",
   "name": "python3"
  },
  "language_info": {
   "codemirror_mode": {
    "name": "ipython",
    "version": 3
   },
   "file_extension": ".py",
   "mimetype": "text/x-python",
   "name": "python",
   "nbconvert_exporter": "python",
   "pygments_lexer": "ipython3",
   "version": "3.8.18"
  }
 },
 "nbformat": 4,
 "nbformat_minor": 5
}

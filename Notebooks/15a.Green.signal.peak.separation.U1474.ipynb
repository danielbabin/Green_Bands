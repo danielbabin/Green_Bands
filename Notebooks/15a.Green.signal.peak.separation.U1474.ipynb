{
 "cells": [
  {
   "cell_type": "markdown",
   "metadata": {},
   "source": [
    "# 15a. Green signal peak separator U1474\n",
    "The color analysis outputs the percent of pixels at a given depth which are green. The question is: What meaning does this percent green have? Is it actually meaningful on its own? The current plan is to set a threshold for a percent green-ness that will constitute a binary positive confirmation of a green layer. "
   ]
  },
  {
   "cell_type": "markdown",
   "metadata": {},
   "source": [
    "## Setup\n",
    "### Import Modules"
   ]
  },
  {
   "cell_type": "code",
   "execution_count": 1,
   "metadata": {
    "tags": []
   },
   "outputs": [],
   "source": [
    "import pandas as pd\n",
    "import matplotlib.pyplot as plt\n",
    "import matplotlib.gridspec as gridspec\n",
    "%matplotlib inline\n",
    "from scipy import signal,interpolate,stats,linalg\n",
    "from IPython.display import clear_output\n",
    "import time\n",
    "import numpy as np\n",
    "import seaborn as sns\n",
    "from PIL import Image\n",
    "import os\n",
    "import cv2 as cv\n",
    "import pickle\n",
    "import random"
   ]
  },
  {
   "cell_type": "markdown",
   "metadata": {},
   "source": [
    "### File Paths"
   ]
  },
  {
   "cell_type": "code",
   "execution_count": 2,
   "metadata": {
    "tags": []
   },
   "outputs": [],
   "source": [
    "data_path='/Users/danielbabin/GitHub/Green_Bands/Data/'\n",
    "table_path='/Users/danielbabin/GitHub/Green_Bands/Tables/'\n",
    "saturated_cores='/Volumes/SanDisk.Data/IODPU1474CorePhotos/Saturated/'\n",
    "filtered_cores='/Volumes/SanDisk.Data/IODPU1474CorePhotos/Filtered/Green/'\n",
    "raw_cores='/Volumes/SanDisk.Data/IODPU1474CorePhotos/Raw/'\n",
    "figure_path='/Users/danielbabin/GitHub/Green_Bands/Figures/'\n",
    "sup_figure_path='/Users/danielbabin/GitHub/Green_Bands/Supplementary Figures/'\n",
    "checkpoints_path='/Users/danielbabin/GitHub/Green_Bands/Data/Checkpoints/'"
   ]
  },
  {
   "cell_type": "markdown",
   "metadata": {},
   "source": [
    "### Import Splice info"
   ]
  },
  {
   "cell_type": "code",
   "execution_count": 3,
   "metadata": {
    "tags": []
   },
   "outputs": [],
   "source": [
    "splice=pd.read_csv(data_path+'SpliceTables/spliceConstructionE361.csv').iloc[0:57]\n",
    "splice['CoreLabel']=(splice['Site']+splice['Hole']+'_'+splice['Core'].map(str))\n",
    "\n",
    "section_list=pd.read_csv(data_path+'SectionSummaries/sectionSummaryU1474.csv')\n",
    "section_list['SectionLabel']=(section_list['Site']+section_list['Hole']+'_'+\n",
    "                              section_list['Core'].map(str)+section_list['Type']+section_list['Sect'].map(str))\n",
    "section_list.rename(columns={'Top depth CCSF-361-U1474-ABDEF-20160220 (m)':'Top Depth CCSF (m)',\n",
    "                            'Bottom depth CCSF-361-U1474-ABDEF-20160220 (m)':'Bottom Depth CCSF (m)'},inplace=True)\n",
    "section_list['Length (m)']=section_list['Bottom Depth CCSF (m)']-section_list['Top Depth CCSF (m)']\n",
    "section_list=section_list.set_index('SectionLabel',drop=False)"
   ]
  },
  {
   "cell_type": "code",
   "execution_count": 4,
   "metadata": {
    "tags": []
   },
   "outputs": [],
   "source": [
    "sections=section_list[(section_list['Top Depth CCSF (m)']<205)&\n",
    "                      (section_list['Sect']!='CC')]['SectionLabel'].reset_index(drop=True)"
   ]
  },
  {
   "cell_type": "markdown",
   "metadata": {},
   "source": [
    "## Process green signal from all holes"
   ]
  },
  {
   "cell_type": "markdown",
   "metadata": {},
   "source": [
    "### Load Green %"
   ]
  },
  {
   "cell_type": "code",
   "execution_count": 13,
   "metadata": {
    "tags": []
   },
   "outputs": [],
   "source": [
    "green=pd.DataFrame()\n",
    "section_files=os.listdir(data_path+'Green_Data/U1474/')\n",
    "for sf in sections.values:\n",
    "    green=pd.concat([green,pd.read_csv(data_path+'Green_Data/U1474/'+sf+'.csv')])\n",
    "green['Core']=green['Core'].astype(str)\n",
    "green['Section']=green['Section'].astype(str)\n",
    "green['CoreLabel']=(green['Site'].astype(str)+green['Hole']+'_'+green['Core'].astype(str))\n",
    "green['CoreLabel']=green['CoreLabel']\n",
    "green=green.sort_values(by='CCSF Depth (m)')\n",
    "green=green.reset_index()\n",
    "green['SectionLabel']=(green['Site']+green['Hole']+'_'+\n",
    "                       green['Core'].map(str)+green['Type']+\n",
    "                       green['Section'].map(str))"
   ]
  },
  {
   "cell_type": "code",
   "execution_count": 14,
   "metadata": {
    "tags": []
   },
   "outputs": [],
   "source": [
    "channel_cols=green.columns[10:-3].tolist()"
   ]
  },
  {
   "cell_type": "code",
   "execution_count": 15,
   "metadata": {
    "tags": []
   },
   "outputs": [],
   "source": [
    "section_max_offsets=green.groupby('SectionLabel')['Offset (cm)'].max()"
   ]
  },
  {
   "cell_type": "code",
   "execution_count": 16,
   "metadata": {
    "tags": []
   },
   "outputs": [],
   "source": [
    "sect_green=green.set_index('SectionLabel')\n",
    "sect_green['Section Length (cm)']=section_max_offsets"
   ]
  },
  {
   "cell_type": "code",
   "execution_count": 17,
   "metadata": {
    "tags": []
   },
   "outputs": [],
   "source": [
    "green['Section Length (cm)']=sect_green['Section Length (cm)'].values"
   ]
  },
  {
   "cell_type": "code",
   "execution_count": 18,
   "metadata": {
    "tags": []
   },
   "outputs": [],
   "source": [
    "end_problems=green[((green['Offset (cm)']<=0.5)|\n",
    "                    (green['Offset (cm)']>=green['Section Length (cm)']-.5))&(green['Green%']>5)].index"
   ]
  },
  {
   "cell_type": "code",
   "execution_count": 19,
   "metadata": {
    "tags": []
   },
   "outputs": [],
   "source": [
    "green.loc[end_problems,channel_cols]=np.nan\n",
    "green.loc[green['Green%']<=3,'Green%']=0"
   ]
  },
  {
   "cell_type": "code",
   "execution_count": 20,
   "metadata": {
    "tags": []
   },
   "outputs": [],
   "source": [
    "green=green.drop(['index','Section Length (cm)'],axis=1)"
   ]
  },
  {
   "cell_type": "code",
   "execution_count": 21,
   "metadata": {
    "tags": []
   },
   "outputs": [],
   "source": [
    "dgreen=green.set_index('CSF-A Depth (m)',drop=False)"
   ]
  },
  {
   "cell_type": "markdown",
   "metadata": {},
   "source": [
    "### Remove disturbed sections"
   ]
  },
  {
   "cell_type": "code",
   "execution_count": 22,
   "metadata": {
    "tags": []
   },
   "outputs": [],
   "source": [
    "green_qanal_input_extension='QAnalyseries/Outputs/Magnetics/'"
   ]
  },
  {
   "cell_type": "code",
   "execution_count": 23,
   "metadata": {
    "tags": []
   },
   "outputs": [],
   "source": [
    "correlations={}\n",
    "functions={}\n",
    "for hole in ['A','B','C','D','F']:\n",
    "    correlations[hole]=pd.read_csv(data_path+green_qanal_input_extension+'Hole'+hole+'.txt',engine='python',\n",
    "                                   names=['Depth CSF-A (m)','Splice Depth CCSF (m)'],sep='\\s')\n",
    "    functions[hole]=interpolate.interp1d(correlations[hole]['Depth CSF-A (m)'],\n",
    "                                         correlations[hole]['Splice Depth CCSF (m)'],\n",
    "                                         bounds_error=False,fill_value='extrapolate')"
   ]
  },
  {
   "cell_type": "code",
   "execution_count": 24,
   "metadata": {
    "tags": []
   },
   "outputs": [],
   "source": [
    "greenCorrs={}\n",
    "for hole in ['A','B','C','D','F']: \n",
    "    greenCorrs[hole]=dgreen[dgreen['Hole']==hole].copy()\n",
    "    greenCorrs[hole]['Splice Depth CCSF (m)']=functions[hole](greenCorrs[hole].index)\n",
    "    greenCorrs[hole]=greenCorrs[hole].set_index('Splice Depth CCSF (m)',drop=False)"
   ]
  },
  {
   "cell_type": "code",
   "execution_count": 27,
   "metadata": {
    "tags": []
   },
   "outputs": [],
   "source": [
    "disturbed_intervals=pd.read_csv(table_path+'Supplementary Table X Site U1474 Disturbed Invervals.csv')"
   ]
  },
  {
   "cell_type": "code",
   "execution_count": 28,
   "metadata": {
    "tags": []
   },
   "outputs": [],
   "source": [
    "greenCorrCleans={}\n",
    "for hole in ['A','B','C','D','F']:\n",
    "    greenCorrCleans[hole]=greenCorrs[hole].copy()\n",
    "    hole_intervals=disturbed_intervals[disturbed_intervals['Hole']==hole]\n",
    "    for i in hole_intervals.index: \n",
    "        sect=disturbed_intervals.loc[i,'SectionLabel']\n",
    "        top_offset=disturbed_intervals.loc[i,'Top offset (cm)']\n",
    "        bot_offset=disturbed_intervals.loc[i,'Bottom offset (cm)']\n",
    "        logic=((greenCorrCleans[hole]['SectionLabel']==sect)&\n",
    "               (greenCorrCleans[hole]['Offset (cm)'].between(top_offset,bot_offset)))\n",
    "        greenCorrCleans[hole].loc[logic,'Green%']=np.nan\n",
    "        \n",
    "    greenCorrCleans[hole]=greenCorrCleans[hole].dropna(subset=['Green%'])     \n",
    "        \n",
    "    ### core bottoms\n",
    "    for core in greenCorrCleans[hole].Core.unique():\n",
    "        ids=greenCorrCleans[hole][greenCorrCleans[hole]['Core']==core].index[-5:]\n",
    "        greenCorrCleans[hole].loc[ids,'Green%']=np.nan\n",
    "        \n",
    "    greenCorrCleans[hole]=greenCorrCleans[hole].loc[greenCorrCleans[hole].index.duplicated()==False]\n",
    "    greenCorrCleans[hole]=greenCorrCleans[hole].set_index('CCSF Depth (m)',drop=False)\n",
    "    greenCorrCleans[hole]=greenCorrCleans[hole].loc[greenCorrCleans[hole].index.duplicated()==False]"
   ]
  },
  {
   "cell_type": "code",
   "execution_count": 29,
   "metadata": {
    "tags": []
   },
   "outputs": [],
   "source": [
    "keep_cols=['Exp', 'Site', 'Hole', 'Core', 'Type', 'Section', 'Offset (cm)',\n",
    "           'CSF-A Depth (m)', 'CCSF Depth (m)', 'Splice Depth CCSF (m)', '40-30-30', '40-30-40', '50-20-30',\n",
    "           '50-20-40', '50-30-20', '50-40-20', '50-40-30', '60-20-20', '60-20-30',\n",
    "           '60-20-40', '60-30-10', '60-30-20', '60-30-30', '70-10-40', '70-10-50',\n",
    "           '70-20-20', '70-20-30', '70-20-40', '70-30-10', '80-10-20', '80-10-30',\n",
    "           '80-10-40', '80-10-50', '80-20-20', '80-20-30', '80-20-40', '90-0-30',\n",
    "           '90-0-40', '90-0-50', '90-10-20', '90-10-30', '90-10-40', '90-10-50',\n",
    "           '90-20-20', '90-20-30', '100-0-20', '100-0-30', '100-0-40', '100-0-50',\n",
    "           '100-10-20', '100-10-30', '100-10-40', '100-20-20', '100-20-30',\n",
    "           '110-0-30', '110-0-40', '110-0-50', '110-10-20', '110-10-30',\n",
    "           '110-10-40', '120-0-30', '120-0-40', '120-10-20', '120-10-30',\n",
    "           '120-10-40', '130-0-30', '130-0-40', '130-10-20', '130-10-30',\n",
    "           '130-10-40', 'Green%', 'CoreLabel', 'SectionLabel',\n",
    "          ]"
   ]
  },
  {
   "cell_type": "code",
   "execution_count": 31,
   "metadata": {
    "tags": []
   },
   "outputs": [],
   "source": [
    "green_intensity_extension='Green_Data/Green_Intensity_Splices/U1474/'"
   ]
  },
  {
   "cell_type": "code",
   "execution_count": 32,
   "metadata": {
    "tags": []
   },
   "outputs": [],
   "source": [
    "for hole in ['A','B','C','D','F']:\n",
    "    greenCorrCleans[hole][keep_cols].to_csv(data_path+green_intensity_extension+hole+'.csv')"
   ]
  },
  {
   "cell_type": "markdown",
   "metadata": {},
   "source": [
    "## Core Photos"
   ]
  },
  {
   "cell_type": "code",
   "execution_count": 34,
   "metadata": {
    "tags": []
   },
   "outputs": [],
   "source": [
    "cpmd=pd.read_csv(data_path+'U1474/corePhotosMetadataU1474.csv')\n",
    "cpmd['SectionLabel']=cpmd['Site']+cpmd['Hole']+'_'+cpmd['Core'].map(str)+cpmd['Type']+cpmd['Sect'].map(str)\n",
    "cpmd['Cropped image filename (JPEG)']=cpmd['Cropped image filename'].str[:-4]+'.jpeg'\n",
    "iddrop=cpmd[(cpmd['SectionLabel']=='U1474F_6H2')&(cpmd['A/W']=='W')].index\n",
    "cpmd=cpmd.drop(iddrop)\n",
    "cpmd.set_index('SectionLabel',inplace=True)\n",
    "cpmd=cpmd[cpmd['Display status (T/F)']=='T']"
   ]
  },
  {
   "cell_type": "code",
   "execution_count": 35,
   "metadata": {
    "tags": []
   },
   "outputs": [],
   "source": [
    "def path_finder(section):\n",
    "    if section[5]=='A':\n",
    "        path='/Volumes/SanDisk.Data/IODPU1474CorePhotos/Raw/361-U1474A-LSIMG/'\n",
    "    elif section[5]=='B':\n",
    "        path='/Volumes/SanDisk.Data/IODPU1474CorePhotos/Raw/361-U1474B-LSIMG/'\n",
    "    elif section[5]=='C':\n",
    "        path='/Volumes/SanDisk.Data/IODPU1474CorePhotos/Raw/361-U1474C-LSIMG/'\n",
    "    elif section[5]=='D':\n",
    "        path='/Volumes/SanDisk.Data/IODPU1474CorePhotos/Raw/361-U1474D-LSIMG/'\n",
    "    elif section[5]=='E':\n",
    "        path='/Volumes/SanDisk.Data/IODPU1474CorePhotos/Raw/361-U1474E-LSIMG/'\n",
    "    else:\n",
    "        path='/Volumes/SanDisk.Data/IODPU1474CorePhotos/Raw/361-U1474F-LSIMG/'\n",
    "    return path"
   ]
  },
  {
   "cell_type": "code",
   "execution_count": 36,
   "metadata": {
    "tags": []
   },
   "outputs": [
    {
     "name": "stdout",
     "output_type": "stream",
     "text": [
      "Current progress:  99.81 %\n",
      "Current run time:  0.02  minutes\n",
      "Expected run time:  0.02  minutes\n"
     ]
    }
   ],
   "source": [
    "raws={}\n",
    "filts={}\n",
    "start=time.time()\n",
    "for i,s in enumerate(sections):\n",
    "    clear_output(wait=True)\n",
    "    raw_path=path_finder(s)\n",
    "    raws[s] = Image.open(raw_path+cpmd.loc[s,'Cropped image filename'][:-4]+'-LSIMG.jpg')\n",
    "    filts[s] = Image.open(filtered_cores+cpmd.loc[s,'Cropped image filename'])\n",
    "    \n",
    "    stop=time.time()-start\n",
    "    if i/len(sections)*100<2:\n",
    "        expected_time='Calculating...'\n",
    "    else:\n",
    "        expected_time=np.round((stop-0)/(i/len(sections))/60,2)\n",
    "    print('Current progress: ',np.round(i/len(sections)*100,2),'%')\n",
    "    print('Current run time: ',np.round((stop-0)/60,2),' minutes')\n",
    "    print('Expected run time: ',expected_time,' minutes')"
   ]
  },
  {
   "cell_type": "code",
   "execution_count": 37,
   "metadata": {
    "tags": []
   },
   "outputs": [],
   "source": [
    "aspects=[]\n",
    "for i,sect in enumerate(sections):\n",
    "    shp=raws[sect].size\n",
    "    aspects.append(shp[1]/shp[0])\n",
    "aspects=np.array(aspects)\n",
    "naspests=((16.6/aspects)-1)/2"
   ]
  },
  {
   "cell_type": "markdown",
   "metadata": {},
   "source": [
    "## Separate green signal peaks\n",
    "### Find Peaks"
   ]
  },
  {
   "cell_type": "code",
   "execution_count": 38,
   "metadata": {
    "tags": []
   },
   "outputs": [],
   "source": [
    "def peakFind(greendf):\n",
    "    peaks,md_peaks=signal.find_peaks(greendf['Green%'],prominence=9,distance=1)\n",
    "    depths_peaks=greendf.iloc[peaks]['Green%']\n",
    "    widths=signal.peak_widths(greendf['Green%'],peaks,rel_height=.95)\n",
    "    peaks=depths_peaks.to_frame(name='Green%')\n",
    "    peaks['Widths']=widths[0]\n",
    "    peaks['Prominence']=md_peaks['prominences']\n",
    "    peaks['Widths Height']=widths[1]\n",
    "    peaks['Left IP']=widths[2]\n",
    "    peaks['Right IP']=widths[3]\n",
    "    left_depth=greendf.iloc[peaks['Left IP']].index\n",
    "    right_depth=greendf.iloc[peaks['Right IP']].index\n",
    "    peaks['Left Depth']=left_depth\n",
    "    peaks['Right Depth']=right_depth\n",
    "    return peaks"
   ]
  },
  {
   "cell_type": "code",
   "execution_count": 39,
   "metadata": {
    "tags": []
   },
   "outputs": [],
   "source": [
    "peaks={}\n",
    "for hole in ['A','B','C','D','F']:\n",
    "    peaks[hole]=peakFind(greenCorrCleans[hole])"
   ]
  },
  {
   "cell_type": "markdown",
   "metadata": {},
   "source": [
    "### Parse groups of peaks"
   ]
  },
  {
   "cell_type": "code",
   "execution_count": 40,
   "metadata": {
    "tags": []
   },
   "outputs": [],
   "source": [
    "def parse(peaksdf):\n",
    "    peaksdf['Super Peak']=False\n",
    "    peaksdf['Real Left']=peaksdf['Left Depth']\n",
    "    peaksdf['Real Right']=peaksdf['Right Depth']\n",
    "    for i in peaksdf.index:\n",
    "        lb=peaksdf.loc[i,'Left Depth']\n",
    "        rb=peaksdf.loc[i,'Right Depth'] \n",
    "        l_trues=peaksdf['Left Depth'].between(left=lb,right=rb,inclusive='neither')\n",
    "        l_test=l_trues.any() ## is anything's left depth between?\n",
    "        r_trues=peaksdf['Right Depth'].between(left=lb,right=rb,inclusive='neither')\n",
    "        r_test=r_trues.any() ## is anything's right depth between\n",
    "        if l_test&r_test==True:\n",
    "            peaksdf.loc[i,'Super Peak']=True\n",
    "            trueids=pd.concat([peaksdf[l_trues],peaksdf[r_trues]]).sort_index().index\n",
    "\n",
    "            lt_peak_center=trueids<i\n",
    "            if lt_peak_center.any()==True:\n",
    "                left_id=np.where(lt_peak_center==True)[0][-1]\n",
    "                peaksdf.loc[i,'Real Left']=peaksdf.loc[trueids[left_id],'Right Depth']+.001\n",
    "            else:\n",
    "                peaksdf.loc[i,'Left Depth']=peaksdf.loc[i,'Left Depth']\n",
    "\n",
    "            gt_peak_center=trueids>i\n",
    "            if gt_peak_center.any()==True:\n",
    "                right_id=np.where(gt_peak_center==True)[0][0]\n",
    "                peaksdf.loc[i,'Real Right']=peaksdf.loc[trueids[right_id],'Left Depth']-.001\n",
    "            else:\n",
    "                peaksdf.loc[i,'Right Depth']=peaksdf.loc[i,'Right Depth']\n",
    "\n",
    "        elif (l_test==True)&(r_test==False):\n",
    "            peaksdf.loc[i,'Real Right']=peaksdf.shift(-1).loc[i,'Left Depth']\n",
    "        elif (r_test==True)&(l_test==False):\n",
    "            peaksdf.loc[i,'Real Left']=peaksdf.shift(1).loc[i,'Right Depth'].copy()\n",
    "    peaksdf['Real Width Depth']=peaksdf['Real Right']-peaksdf['Real Left']\n",
    "    peaksdf.loc[peaksdf['Real Width Depth']==0,'Real Width Depth']=.001\n",
    "    return peaksdf"
   ]
  },
  {
   "cell_type": "code",
   "execution_count": 41,
   "metadata": {
    "tags": []
   },
   "outputs": [],
   "source": [
    "for hole in ['A','B','C','D','F']:\n",
    "    peaks[hole]=parse(peaks[hole])"
   ]
  },
  {
   "cell_type": "markdown",
   "metadata": {},
   "source": [
    "#### Mark duplicates\n",
    "Some peaks oddly have different peaks, but identical tops and bottoms."
   ]
  },
  {
   "cell_type": "code",
   "execution_count": 42,
   "metadata": {
    "tags": []
   },
   "outputs": [],
   "source": [
    "def markDuplicated(peaksdf):\n",
    "    top_not_duplicated=peaksdf.reset_index().groupby('Real Left').first()['CCSF Depth (m)']\n",
    "    peaksdf['Top Duplicated']=True\n",
    "    peaksdf.loc[top_not_duplicated,'Top Duplicated']=False\n",
    "    \n",
    "    peaks_tops_not_dup=peaksdf[peaksdf['Top Duplicated']==False].copy()\n",
    "\n",
    "    bottoms_not_duplicated=peaks_tops_not_dup.reset_index().groupby('Real Right').last()['CCSF Depth (m)']\n",
    "    peaks_tops_not_dup['Bottom Duplicated']=True\n",
    "    peaks_tops_not_dup.loc[bottoms_not_duplicated,'Bottom Duplicated']=False\n",
    "    \n",
    "    peaksdf['Bottom Duplicated']=peaksdf['Top Duplicated']\n",
    "    peaksdf.loc[peaks_tops_not_dup[peaks_tops_not_dup['Bottom Duplicated']==True].index,'Bottom Duplicated']=True\n",
    "    \n",
    "    peaksdf['Duplicated']=peaksdf['Bottom Duplicated']|peaksdf['Top Duplicated']\n",
    "    \n",
    "    return peaksdf"
   ]
  },
  {
   "cell_type": "code",
   "execution_count": 43,
   "metadata": {
    "tags": []
   },
   "outputs": [],
   "source": [
    "for hole in ['A','B','C','D','F']:\n",
    "    peaks[hole]=markDuplicated(peaks[hole])"
   ]
  },
  {
   "cell_type": "markdown",
   "metadata": {},
   "source": [
    "### Quality control check"
   ]
  },
  {
   "cell_type": "code",
   "execution_count": 44,
   "metadata": {
    "tags": []
   },
   "outputs": [],
   "source": [
    "n=130\n",
    "sect=sections[n]\n",
    "hole=sect[5]\n",
    "green=greenCorrCleans[hole].copy()\n",
    "dmin=green[green['SectionLabel']==sect].index[0]\n",
    "dmax=green[green['SectionLabel']==sect].index[-1]\n",
    "slc_peaks=peaks[hole].loc[dmin:dmax].copy()\n",
    "sect_img_raw=raws[sect]\n",
    "sect_img_filt=filts[sect]"
   ]
  },
  {
   "cell_type": "code",
   "execution_count": 46,
   "metadata": {
    "tags": []
   },
   "outputs": [
    {
     "data": {
      "image/png": "[encoded data removed]",
      "text/plain": [
       "<Figure size 800x450 with 4 Axes>"
      ]
     },
     "metadata": {},
     "output_type": "display_data"
    }
   ],
   "source": [
    "fig=plt.figure(figsize=(8,4.5),facecolor='w')\n",
    "gs = gridspec.GridSpec(8, 1, figure=fig,hspace=0,left=.07,right=.99,top=.95,bottom=.11)\n",
    "ax1=fig.add_subplot(gs[0,:])\n",
    "ax2=fig.add_subplot(gs[1,:])\n",
    "ax3=fig.add_subplot(gs[2:5,:])\n",
    "ax4=fig.add_subplot(gs[5:8,:])\n",
    "\n",
    "ax1.imshow(sect_img_raw.rotate(90,expand=True))\n",
    "ax1.axis('off');\n",
    "ax1.set_title(sect[:5]+' Hole '+sect[5]+' Core '+sect[7]+' Section '+sect[-1],fontweight='bold',loc='right')\n",
    "\n",
    "ax2.imshow(sect_img_filt)\n",
    "ax2.axis('off');\n",
    "\n",
    "ax=ax3\n",
    "green.loc[dmin:dmax,'Green%'].dropna().plot(color='tab:green',marker='o',ms=1,lw=.5,ax=ax,alpha=.2)\n",
    "ax.scatter(slc_peaks.index,slc_peaks['Green%'],color='k',s=10)\n",
    "ax.hlines(slc_peaks['Widths Height'],xmin=slc_peaks['Left Depth'],xmax=slc_peaks['Right Depth'],color='k')\n",
    "ax.set_xlim(dmin,dmax)\n",
    "\n",
    "ax=ax4\n",
    "green.loc[dmin:dmax,'Green%'].dropna().plot(color='tab:green',marker='o',ms=1,lw=.5,ax=ax,alpha=.2)\n",
    "ax.scatter(slc_peaks.index,slc_peaks['Green%'],color='k',s=10)\n",
    "ax.hlines(slc_peaks['Widths Height'],xmin=slc_peaks['Real Left'],xmax=slc_peaks['Real Right'],color='k')\n",
    "ax.set_xlim(dmin,dmax)\n",
    "\n",
    "steps=['SciPy.find_peaks() output','Super peaks separated']\n",
    "for i,ax in enumerate([ax3,ax4]):\n",
    "    ax.set_ylabel('Green Pixels [%]')\n",
    "    ax.annotate(steps[i],xy=(.98,.94),xycoords='axes fraction',ha='right',va='top')\n",
    "\n",
    "# fig.savefig(sup_figure_path+'Sup Figure 14 Green Super Peak Separation.png',dpi=500)"
   ]
  },
  {
   "cell_type": "markdown",
   "metadata": {
    "tags": []
   },
   "source": [
    "### Make green bands table"
   ]
  },
  {
   "cell_type": "code",
   "execution_count": 47,
   "metadata": {
    "tags": []
   },
   "outputs": [],
   "source": [
    "green_layers_dict={}"
   ]
  },
  {
   "cell_type": "code",
   "execution_count": 48,
   "metadata": {
    "tags": []
   },
   "outputs": [],
   "source": [
    "def makeGreenLayersTable(peaksdf):\n",
    "    green_layers=peaksdf[['Real Left','Real Right','Real Width Depth','Duplicated']].copy()\n",
    "    green_layers=green_layers[green_layers['Duplicated']==False].copy()\n",
    "    green_layers['Real Width Depth']=green_layers['Real Width Depth']*100\n",
    "    green_layers=green_layers.rename(columns={'Real Left':'Top Depth CCSF (m)',\n",
    "                                              'Real Right':'Bottom Depth CCSF (m)',\n",
    "                                              'Real Width Depth':'Thickness (cm)'})\n",
    "    md_cols=['Exp', 'Site', 'Hole', 'Core', 'Type', 'Section']\n",
    "    green_layers[md_cols]=greenCorrCleans[hole].loc[green_layers.index,md_cols]\n",
    "    green_layers['Bottom Offset (cm)']=greenCorrCleans[hole].reindex(green_layers['Bottom Depth CCSF (m)'],\n",
    "                                                                     method='nearest')['Offset (cm)'].values\n",
    "    green_layers['Top Offset (cm)']=(green_layers['Bottom Offset (cm)']-green_layers['Thickness (cm)']).round(1)\n",
    "    green_layers=green_layers.reset_index()\n",
    "    keep_cols=['Exp', 'Site', 'Hole', 'Core','Type', 'Section',\n",
    "           'Top Offset (cm)','Bottom Offset (cm)','Top Depth CCSF (m)',\n",
    "           'Bottom Depth CCSF (m)','Thickness (cm)']\n",
    "    green_layers=green_layers[keep_cols]\n",
    "    return green_layers"
   ]
  },
  {
   "cell_type": "code",
   "execution_count": 49,
   "metadata": {
    "tags": []
   },
   "outputs": [],
   "source": [
    "for hole in ['A','B','C','D','F']:\n",
    "    green_layers_dict[hole]=makeGreenLayersTable(peaks[hole])"
   ]
  },
  {
   "cell_type": "code",
   "execution_count": 50,
   "metadata": {
    "tags": []
   },
   "outputs": [],
   "source": [
    "green_layers=pd.concat([green_layers_dict[hole] for hole in ['A','B','C','D','F']]).reset_index(drop=True)"
   ]
  },
  {
   "cell_type": "code",
   "execution_count": 51,
   "metadata": {
    "tags": []
   },
   "outputs": [
    {
     "data": {
      "text/html": [
       "<div>\n",
       "<style scoped>\n",
       "    .dataframe tbody tr th:only-of-type {\n",
       "        vertical-align: middle;\n",
       "    }\n",
       "\n",
       "    .dataframe tbody tr th {\n",
       "        vertical-align: top;\n",
       "    }\n",
       "\n",
       "    .dataframe thead th {\n",
       "        text-align: right;\n",
       "    }\n",
       "</style>\n",
       "<table border=\"1\" class=\"dataframe\">\n",
       "  <thead>\n",
       "    <tr style=\"text-align: right;\">\n",
       "      <th></th>\n",
       "      <th>Exp</th>\n",
       "      <th>Site</th>\n",
       "      <th>Hole</th>\n",
       "      <th>Core</th>\n",
       "      <th>Type</th>\n",
       "      <th>Section</th>\n",
       "      <th>Top Offset (cm)</th>\n",
       "      <th>Bottom Offset (cm)</th>\n",
       "      <th>Top Depth CCSF (m)</th>\n",
       "      <th>Bottom Depth CCSF (m)</th>\n",
       "      <th>Thickness (cm)</th>\n",
       "    </tr>\n",
       "  </thead>\n",
       "  <tbody>\n",
       "    <tr>\n",
       "      <th>0</th>\n",
       "      <td>361</td>\n",
       "      <td>U1474</td>\n",
       "      <td>A</td>\n",
       "      <td>1</td>\n",
       "      <td>H</td>\n",
       "      <td>1</td>\n",
       "      <td>20.2</td>\n",
       "      <td>22.5</td>\n",
       "      <td>0.202</td>\n",
       "      <td>0.225</td>\n",
       "      <td>2.3</td>\n",
       "    </tr>\n",
       "    <tr>\n",
       "      <th>1</th>\n",
       "      <td>361</td>\n",
       "      <td>U1474</td>\n",
       "      <td>A</td>\n",
       "      <td>1</td>\n",
       "      <td>H</td>\n",
       "      <td>1</td>\n",
       "      <td>22.7</td>\n",
       "      <td>24.8</td>\n",
       "      <td>0.227</td>\n",
       "      <td>0.248</td>\n",
       "      <td>2.1</td>\n",
       "    </tr>\n",
       "    <tr>\n",
       "      <th>2</th>\n",
       "      <td>361</td>\n",
       "      <td>U1474</td>\n",
       "      <td>A</td>\n",
       "      <td>1</td>\n",
       "      <td>H</td>\n",
       "      <td>1</td>\n",
       "      <td>49.7</td>\n",
       "      <td>51.7</td>\n",
       "      <td>0.497</td>\n",
       "      <td>0.517</td>\n",
       "      <td>2.0</td>\n",
       "    </tr>\n",
       "    <tr>\n",
       "      <th>3</th>\n",
       "      <td>361</td>\n",
       "      <td>U1474</td>\n",
       "      <td>A</td>\n",
       "      <td>1</td>\n",
       "      <td>H</td>\n",
       "      <td>1</td>\n",
       "      <td>52.3</td>\n",
       "      <td>54.1</td>\n",
       "      <td>0.523</td>\n",
       "      <td>0.541</td>\n",
       "      <td>1.8</td>\n",
       "    </tr>\n",
       "    <tr>\n",
       "      <th>4</th>\n",
       "      <td>361</td>\n",
       "      <td>U1474</td>\n",
       "      <td>A</td>\n",
       "      <td>1</td>\n",
       "      <td>H</td>\n",
       "      <td>1</td>\n",
       "      <td>54.2</td>\n",
       "      <td>54.6</td>\n",
       "      <td>0.542</td>\n",
       "      <td>0.546</td>\n",
       "      <td>0.4</td>\n",
       "    </tr>\n",
       "    <tr>\n",
       "      <th>...</th>\n",
       "      <td>...</td>\n",
       "      <td>...</td>\n",
       "      <td>...</td>\n",
       "      <td>...</td>\n",
       "      <td>...</td>\n",
       "      <td>...</td>\n",
       "      <td>...</td>\n",
       "      <td>...</td>\n",
       "      <td>...</td>\n",
       "      <td>...</td>\n",
       "      <td>...</td>\n",
       "    </tr>\n",
       "    <tr>\n",
       "      <th>8156</th>\n",
       "      <td>361</td>\n",
       "      <td>U1474</td>\n",
       "      <td>F</td>\n",
       "      <td>21</td>\n",
       "      <td>H</td>\n",
       "      <td>4</td>\n",
       "      <td>140.9</td>\n",
       "      <td>142.4</td>\n",
       "      <td>204.095</td>\n",
       "      <td>204.110</td>\n",
       "      <td>1.5</td>\n",
       "    </tr>\n",
       "    <tr>\n",
       "      <th>8157</th>\n",
       "      <td>361</td>\n",
       "      <td>U1474</td>\n",
       "      <td>F</td>\n",
       "      <td>21</td>\n",
       "      <td>H</td>\n",
       "      <td>4</td>\n",
       "      <td>145.5</td>\n",
       "      <td>146.0</td>\n",
       "      <td>204.141</td>\n",
       "      <td>204.146</td>\n",
       "      <td>0.5</td>\n",
       "    </tr>\n",
       "    <tr>\n",
       "      <th>8158</th>\n",
       "      <td>361</td>\n",
       "      <td>U1474</td>\n",
       "      <td>F</td>\n",
       "      <td>21</td>\n",
       "      <td>H</td>\n",
       "      <td>4</td>\n",
       "      <td>146.1</td>\n",
       "      <td>146.7</td>\n",
       "      <td>204.147</td>\n",
       "      <td>204.153</td>\n",
       "      <td>0.6</td>\n",
       "    </tr>\n",
       "    <tr>\n",
       "      <th>8159</th>\n",
       "      <td>361</td>\n",
       "      <td>U1474</td>\n",
       "      <td>F</td>\n",
       "      <td>21</td>\n",
       "      <td>H</td>\n",
       "      <td>4</td>\n",
       "      <td>146.8</td>\n",
       "      <td>147.5</td>\n",
       "      <td>204.154</td>\n",
       "      <td>204.161</td>\n",
       "      <td>0.7</td>\n",
       "    </tr>\n",
       "    <tr>\n",
       "      <th>8160</th>\n",
       "      <td>361</td>\n",
       "      <td>U1474</td>\n",
       "      <td>F</td>\n",
       "      <td>21</td>\n",
       "      <td>H</td>\n",
       "      <td>4</td>\n",
       "      <td>150.4</td>\n",
       "      <td>151.0</td>\n",
       "      <td>204.190</td>\n",
       "      <td>204.196</td>\n",
       "      <td>0.6</td>\n",
       "    </tr>\n",
       "  </tbody>\n",
       "</table>\n",
       "<p>8161 rows × 11 columns</p>\n",
       "</div>"
      ],
      "text/plain": [
       "      Exp   Site Hole Core Type Section  Top Offset (cm)  Bottom Offset (cm)  \\\n",
       "0     361  U1474    A    1    H       1             20.2                22.5   \n",
       "1     361  U1474    A    1    H       1             22.7                24.8   \n",
       "2     361  U1474    A    1    H       1             49.7                51.7   \n",
       "3     361  U1474    A    1    H       1             52.3                54.1   \n",
       "4     361  U1474    A    1    H       1             54.2                54.6   \n",
       "...   ...    ...  ...  ...  ...     ...              ...                 ...   \n",
       "8156  361  U1474    F   21    H       4            140.9               142.4   \n",
       "8157  361  U1474    F   21    H       4            145.5               146.0   \n",
       "8158  361  U1474    F   21    H       4            146.1               146.7   \n",
       "8159  361  U1474    F   21    H       4            146.8               147.5   \n",
       "8160  361  U1474    F   21    H       4            150.4               151.0   \n",
       "\n",
       "      Top Depth CCSF (m)  Bottom Depth CCSF (m)  Thickness (cm)  \n",
       "0                  0.202                  0.225             2.3  \n",
       "1                  0.227                  0.248             2.1  \n",
       "2                  0.497                  0.517             2.0  \n",
       "3                  0.523                  0.541             1.8  \n",
       "4                  0.542                  0.546             0.4  \n",
       "...                  ...                    ...             ...  \n",
       "8156             204.095                204.110             1.5  \n",
       "8157             204.141                204.146             0.5  \n",
       "8158             204.147                204.153             0.6  \n",
       "8159             204.154                204.161             0.7  \n",
       "8160             204.190                204.196             0.6  \n",
       "\n",
       "[8161 rows x 11 columns]"
      ]
     },
     "execution_count": 51,
     "metadata": {},
     "output_type": "execute_result"
    }
   ],
   "source": [
    "green_layers"
   ]
  },
  {
   "cell_type": "markdown",
   "metadata": {},
   "source": [
    "## Randomize depth order of peaks\n",
    "Our plan is to pick 100 random measurements that came out as \"Green\" from step 05 and graph the %Green next to the core and input whether or not it really looks like a green layer. These datapoints collectively should help determine where the thresholdhold for %Green really is.  "
   ]
  },
  {
   "cell_type": "code",
   "execution_count": 70,
   "metadata": {
    "tags": []
   },
   "outputs": [],
   "source": [
    "# not_done=green_layers.loc[~green_layers.index.isin(greens['N'])].copy()\n",
    "# not_done['N']=not_done.index\n",
    "# not_done=not_done.sample(frac=1).set_index('Top Depth CCSF (m)')"
   ]
  },
  {
   "cell_type": "code",
   "execution_count": 71,
   "metadata": {
    "tags": []
   },
   "outputs": [],
   "source": [
    "greens=green_layers.copy()\n",
    "greens=greens[greens['Top Depth CCSF (m)']>80].copy()\n",
    "greens['Label']=None\n",
    "greens['N']=np.arange(len(greens))\n",
    "greens=greens.sample(frac=1)\n",
    "greens['N (new)']=np.arange(len(greens))\n",
    "greens['SectionLabel']=(greens['Site']+greens['Hole']+'_'+\n",
    "                       greens['Core'].map(str)+greens['Type']+\n",
    "                       greens['Section'].map(str))\n",
    "# greens.to_csv(checkpoints_path+'green.peak.labeling.U1474.csv',index=False)"
   ]
  },
  {
   "cell_type": "code",
   "execution_count": 24,
   "metadata": {},
   "outputs": [],
   "source": [
    "# greens=pd.read_csv(checkpoints_path+'green.peak.labeling.U1474.csv',index_col='Top Depth CCSF (m)')"
   ]
  },
  {
   "cell_type": "code",
   "execution_count": null,
   "metadata": {},
   "outputs": [],
   "source": []
  }
 ],
 "metadata": {
  "kernelspec": {
   "display_name": "Python 3 (ipykernel)",
   "language": "python",
   "name": "python3"
  },
  "language_info": {
   "codemirror_mode": {
    "name": "ipython",
    "version": 3
   },
   "file_extension": ".py",
   "mimetype": "text/x-python",
   "name": "python",
   "nbconvert_exporter": "python",
   "pygments_lexer": "ipython3",
   "version": "3.8.18"
  }
 },
 "nbformat": 4,
 "nbformat_minor": 4
}

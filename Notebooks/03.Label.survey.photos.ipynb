{
 "cells": [
  {
   "cell_type": "markdown",
   "id": "d5dc5207-aff5-45d8-8626-2f02443f0e90",
   "metadata": {},
   "source": [
    "# 03. Label survey photos\n",
    "This step has a function that will you show you each of the core photos, one at time, and will prompt you for details related to the depth of the color transitions and the color banding in the core. These are entered in the form of numbers. \n",
    "1. Green-olive banding shallow associated with transition\n",
    "2. Red-brown banding shallow associated transition\n",
    "3. Purple-black banding shallow associated transition\n",
    "4. Green-olive banding deep unassociated transition\n",
    "5. Red-brown banding deep unassociated transition\n",
    "6. Purple-black banding deep unassociated with transition\n",
    "7. Deep oxdidative color transition (> 40 cm depth)\n",
    "8. Shallow oxdidative color transition (< 40 cm depth)\n",
    "9. Unusable image\n",
    "10. No color changes or banding\n",
    "\n",
    "Each core could recieve multiple numbers to indicate it's appearance. For example, it could have a shallow oxidative color transition (9), red-brown banding at that color transition (2) and green banding in deeper core sections, unassociated with the color transition (4).<br>\n",
    "\n",
    "There is a step prior to this that converts all of the core images from PDFs to JPGs because that's the easiest image type to deal with in matplotlib. This code takes a while (>1 hour). \n",
    "\n",
    "Because this step requires input from the user, **it is ultimately not reproducible**. Classifying all of the core images will take approximately 4 hours."
   ]
  },
  {
   "cell_type": "markdown",
   "id": "20c079a3-0388-4c5e-b22a-9c8c73d7a97f",
   "metadata": {},
   "source": [
    "## Setup\n",
    "### Import Modules"
   ]
  },
  {
   "cell_type": "code",
   "execution_count": 1,
   "id": "2206c4a0-85ec-426b-bf5a-821378c3b870",
   "metadata": {
    "tags": []
   },
   "outputs": [],
   "source": [
    "import pandas as pd\n",
    "import matplotlib.pyplot as plt\n",
    "import matplotlib.gridspec as gridspec\n",
    "from matplotlib.ticker import AutoMinorLocator\n",
    "# %matplotlib inline\n",
    "from scipy import signal,interpolate,stats,linalg\n",
    "# from IPython.display import clear_output\n",
    "import time\n",
    "import numpy as np\n",
    "import seaborn as sns\n",
    "from PIL import Image\n",
    "import os\n",
    "import cv2 as cv\n",
    "import pickle\n",
    "import random\n",
    "from IPython.display import clear_output\n",
    "import random"
   ]
  },
  {
   "cell_type": "markdown",
   "id": "06540231-c450-4750-877b-e5e1b2a09ac5",
   "metadata": {},
   "source": [
    "### Set Paths\n",
    "Please change '/Users/danielbabin/GitHub/' to the path leading to the 'Green_Bands' directory on your local machine."
   ]
  },
  {
   "cell_type": "code",
   "execution_count": 16,
   "id": "4e381028-b86e-4bc5-8de8-e95672c8def8",
   "metadata": {
    "tags": []
   },
   "outputs": [],
   "source": [
    "data_path='/Users/danielbabin/GitHub/Green_Bands/Data/'\n",
    "table_path='/Users/danielbabin/GitHub/Green_Bands/Tables/'\n",
    "survey_cores_path='/Users/danielbabin/GitHub/Green_Bands/Data/Survey/Photos/'\n",
    "checkpoints_path='/Users/danielbabin/GitHub/Green_Bands/Data/Checkpoints/'"
   ]
  },
  {
   "cell_type": "markdown",
   "id": "1963bdaf-ce79-49b6-8267-c750eeddfd06",
   "metadata": {},
   "source": [
    "## Prep for labeling"
   ]
  },
  {
   "cell_type": "markdown",
   "id": "c5814208-65e6-4f2f-8ff6-5cf05ac8ec9f",
   "metadata": {},
   "source": [
    "### Import Survey Data"
   ]
  },
  {
   "cell_type": "code",
   "execution_count": 20,
   "id": "fcee2844-6648-467d-ac3e-2863c09280e0",
   "metadata": {
    "tags": []
   },
   "outputs": [],
   "source": [
    "survey_cores=pd.read_csv(checkpoints_path+'core_survey.csv')\n",
    "# not found: 1252A1H.PDF\n",
    "survey_cores=survey_cores.drop(survey_cores[survey_cores['Filename']=='1252A1H.PDF'].index)"
   ]
  },
  {
   "cell_type": "markdown",
   "id": "f4016f98-735c-4990-9cc1-ef4d93268d1c",
   "metadata": {},
   "source": [
    "### Convert PDFs to JPGs\n",
    "This step is necessary to work with matplotlib"
   ]
  },
  {
   "cell_type": "code",
   "execution_count": 9,
   "id": "49b1d8ca-bdb0-4272-8bc7-7056ebfb00f0",
   "metadata": {
    "tags": []
   },
   "outputs": [],
   "source": [
    "from pdf2image import convert_from_path"
   ]
  },
  {
   "cell_type": "markdown",
   "id": "25e80924-4104-4551-b360-043607968513",
   "metadata": {},
   "source": [
    "You will need to install poppler. With Mac it's easiest to do this with homebrew. Change this variable below to the path to poppler on your machine. "
   ]
  },
  {
   "cell_type": "code",
   "execution_count": 13,
   "id": "4d401220-08bf-4e04-95cb-01bb5e39662b",
   "metadata": {
    "tags": []
   },
   "outputs": [],
   "source": [
    "poppler_path='/opt/homebrew/Cellar/poppler/23.10.0/bin' ## change this to the path to poppler on your machine"
   ]
  },
  {
   "cell_type": "code",
   "execution_count": 14,
   "id": "46fd9c9e-073b-44c8-8332-875edbf389ef",
   "metadata": {
    "tags": []
   },
   "outputs": [],
   "source": [
    "def path_finder(era):\n",
    "    if era=='DSDP':\n",
    "        in_path=survey_cores_path+'PDFs/DSDP/'\n",
    "        out_path=survey_cores_path+'JPGs/DSDP/'\n",
    "    elif era=='ODP':\n",
    "        in_path=survey_cores_path+'PDFs/ODP/'\n",
    "        out_path=survey_cores_path+'JPGs/ODP/'\n",
    "    elif era=='Early IODP':\n",
    "        in_path=survey_cores_path+'PDFs/EarlyIODP/'\n",
    "        out_path=survey_cores_path+'JPGs/EarlyIODP/'\n",
    "    elif era=='Modern IODP':\n",
    "        in_path=survey_cores_path+'PDFs/ModernIODP/'\n",
    "        out_path=survey_cores_path+'JPGs/ModernIODP/'\n",
    "    return in_path,out_path"
   ]
  },
  {
   "cell_type": "code",
   "execution_count": 28,
   "id": "8d511884-984b-4e1a-9a60-6a33850a75b5",
   "metadata": {
    "tags": []
   },
   "outputs": [
    {
     "name": "stdout",
     "output_type": "stream",
     "text": [
      "107 / 2525\n"
     ]
    }
   ],
   "source": [
    "phot={}\n",
    "start=time.time()\n",
    "for j,i in enumerate(survey_cores.loc[survey_cores['Era']!='Modern IODP','Filename'].dropna().index):\n",
    "    clear_output(wait=True)\n",
    "    era=survey_cores.loc[i,'Era']\n",
    "    filename=survey_cores.loc[i,'Filename']\n",
    "    in_path,out_path=path_finder(era)\n",
    "    jpg=convert_from_path(in_path+filename, 500,\n",
    "                                   poppler_path=poppler_path)[0]\n",
    "    jpg.save(out_path+filename[:-4]+'.jpg','JPEG')\n",
    "    print(j,'/',len(survey_cores['Filename'].dropna()))"
   ]
  },
  {
   "cell_type": "markdown",
   "id": "0179f7bd-0730-4916-b66b-cc49b9523d5b",
   "metadata": {
    "tags": []
   },
   "source": [
    "## Label Photos"
   ]
  },
  {
   "cell_type": "code",
   "execution_count": 29,
   "id": "4d8bf5b8-be53-4b5a-a73a-bc832d642121",
   "metadata": {
    "tags": []
   },
   "outputs": [],
   "source": [
    "# idxs=survey_cores.index.to_list()\n",
    "# random.shuffle(idxs)\n",
    "# survey_cores['N']=survey_cores.index\n",
    "# survey_cores['N (new)']=idxs\n",
    "# survey_cores_results_scrambled=survey_cores.set_index('N (new)',drop=False).sort_index()\n",
    "# survey_cores_results_scrambled.to_csv(checkpoints_path+'survey_cores_results_scrambled.csv',index=False)"
   ]
  },
  {
   "cell_type": "code",
   "execution_count": 30,
   "id": "5404a955-9258-43b3-82aa-8baf101f82ec",
   "metadata": {
    "tags": []
   },
   "outputs": [],
   "source": [
    "# survey_cores_results_scrambled=pd.read_csv(checkpoints_path+'survey_cores_results_scrambled.csv',index_col='N (new)')\n",
    "# idxs=survey_cores_results_scrambled['Filename'].dropna()"
   ]
  },
  {
   "cell_type": "code",
   "execution_count": 52,
   "id": "6359bce9-2461-44e1-9427-d2d44f2a52ad",
   "metadata": {
    "tags": []
   },
   "outputs": [],
   "source": [
    "def check(i):\n",
    "    survey_cores=pd.read_csv(checkpoints_path+'survey_cores_results_scrambled.csv',index_col='N (new)')\n",
    "    era=survey_cores.loc[i,'Era']\n",
    "    filename=survey_cores.loc[i,'Filename']\n",
    "    leg=survey_cores.loc[i,'Leg/Exp']\n",
    "    site=survey_cores.loc[i,'Site']\n",
    "    hole=survey_cores.loc[i,'Hole']\n",
    "    in_path,out_path=path_finder(era)\n",
    "    \n",
    "    if era != 'Modern IODP':\n",
    "        img=Image.open(out_path+filename[:-4]+'.jpg').rotate(90,expand=True)\n",
    "    else:\n",
    "        img=Image.open(out_path+filename).rotate(90,expand=True)\n",
    "    \n",
    "    aspect=img.size\n",
    "    aspect_ratio=aspect[0]/aspect[1]\n",
    "\n",
    "    fig,ax=plt.subplots(figsize=(25,12/aspect_ratio))\n",
    "\n",
    "    ax.imshow(img)\n",
    "    ax.axis('off')\n",
    "    ax.set_title('Leg/Exp: '+str(leg)+'  Site: '+str(site)+'  Hole: '+str(hole))\n",
    "    plt.tight_layout()\n",
    "\n",
    "    ## Question\n",
    "    print('Image Index: ',i,'\\n',\n",
    "          '(1) Green-olive banding shallow associated with transition\\t',\n",
    "          '(6) Purple-black banding deep unassociated with transition\\n',\n",
    "          '(2) Red-brown banding shallow associated transition\\t\\t',\n",
    "          '(7) Deep oxdidative color transition (> 40 cm depth)\\n',\n",
    "          '(3) Purple-black banding shallow associated transition\\t\\t',\n",
    "          '(8) Shallow oxdidative color transition (< 40 cm depth)\\n',\n",
    "          '(4) Green-olive banding deep unassociated transition\\t\\t',\n",
    "          '(9) Unusable image\\n',\n",
    "          '(5) Red-brown banding deep unassociated transition\\t\\t',\n",
    "          '(0) No color changes or banding')\n",
    "    plt.show(block=False)\n",
    "    label=int(input())\n",
    "    plt.close()\n",
    "    survey_cores.loc[i,'Label']=label\n",
    "    survey_cores.to_csv(checkpoints_path+'survey_cores_results_scrambled.csv')"
   ]
  },
  {
   "cell_type": "code",
   "execution_count": 51,
   "id": "28850e71-f59a-40be-bdbf-20f4da746eda",
   "metadata": {
    "tags": []
   },
   "outputs": [],
   "source": [
    "print('Enter start n: ')\n",
    "start_n=int(input())\n",
    "for idx in idxs.loc[start_n:].index:\n",
    "    check(idx)"
   ]
  }
 ],
 "metadata": {
  "kernelspec": {
   "display_name": "Python 3 (ipykernel)",
   "language": "python",
   "name": "python3"
  },
  "language_info": {
   "codemirror_mode": {
    "name": "ipython",
    "version": 3
   },
   "file_extension": ".py",
   "mimetype": "text/x-python",
   "name": "python",
   "nbconvert_exporter": "python",
   "pygments_lexer": "ipython3",
   "version": "3.8.18"
  }
 },
 "nbformat": 4,
 "nbformat_minor": 5
}

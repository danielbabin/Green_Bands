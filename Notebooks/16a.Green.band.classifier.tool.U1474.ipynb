{
 "cells": [
  {
   "cell_type": "markdown",
   "id": "eec989dd",
   "metadata": {},
   "source": [
    "# 16a. Green band classifier tool U1474\n",
    "The color analysis outputs the percent of pixels at a given depth which are green. The question is: What meaning does this percent green have? Is it actually meaningful on its own? The current plan is to set a threshold for a percent green-ness that will constitute a binary positive confirmation of a green layer. "
   ]
  },
  {
   "cell_type": "markdown",
   "id": "44819460",
   "metadata": {},
   "source": [
    "## Setup\n",
    "### Import Packages"
   ]
  },
  {
   "cell_type": "code",
   "execution_count": 1,
   "id": "9bdeec98",
   "metadata": {
    "tags": []
   },
   "outputs": [],
   "source": [
    "import pandas as pd\n",
    "import matplotlib.pyplot as plt\n",
    "import matplotlib.gridspec as gridspec\n",
    "from matplotlib.ticker import AutoMinorLocator\n",
    "# %matplotlib inline\n",
    "from scipy import signal,interpolate,stats,linalg\n",
    "# from IPython.display import clear_output\n",
    "import time\n",
    "import numpy as np\n",
    "import seaborn as sns\n",
    "from PIL import Image\n",
    "import os\n",
    "import cv2 as cv\n",
    "import pickle\n",
    "import random"
   ]
  },
  {
   "cell_type": "markdown",
   "id": "af52faf2",
   "metadata": {},
   "source": [
    "### File Paths"
   ]
  },
  {
   "cell_type": "code",
   "execution_count": 2,
   "id": "033f49f1",
   "metadata": {
    "tags": []
   },
   "outputs": [],
   "source": [
    "data_path='/Users/danielbabin/GitHub/Green_Bands/Data/'\n",
    "table_path='/Users/danielbabin/GitHub/Green_Bands/Tables/'\n",
    "saturated_cores='/Volumes/SanDisk.Data/IODPU1474CorePhotos/Saturated/'\n",
    "filtered_cores='/Volumes/SanDisk.Data/IODPU1474CorePhotos/Filtered/Green/'\n",
    "raw_cores='/Volumes/SanDisk.Data/IODPU1474CorePhotos/Raw/'\n",
    "figure_path='/Users/danielbabin/GitHub/Green_Bands/Figures/Main/'\n",
    "sup_figure_path='/Users/danielbabin/GitHub/Green_Bands/Figures/Supplementary/'\n",
    "checkpoints_path='/Users/danielbabin/GitHub/Green_Bands/Data/Checkpoints/'"
   ]
  },
  {
   "cell_type": "markdown",
   "id": "454f066f",
   "metadata": {},
   "source": [
    "### Import Splice info"
   ]
  },
  {
   "cell_type": "code",
   "execution_count": 3,
   "id": "4c0a335f",
   "metadata": {
    "tags": []
   },
   "outputs": [],
   "source": [
    "splice=pd.read_csv(data_path+'SpliceTables/spliceConstructionE361.csv').iloc[0:57]\n",
    "splice['CoreLabel']=(splice['Site']+splice['Hole']+'_'+splice['Core'].map(str))\n",
    "\n",
    "section_list=pd.read_csv(data_path+'SectionSummaries/sectionSummaryU1474.csv')\n",
    "section_list['SectionLabel']=(section_list['Site']+section_list['Hole']+'_'+\n",
    "                              section_list['Core'].map(str)+section_list['Type']+section_list['Sect'].map(str))\n",
    "section_list.rename(columns={'Top depth CCSF-361-U1474-ABDEF-20160220 (m)':'Top Depth CCSF (m)',\n",
    "                            'Bottom depth CCSF-361-U1474-ABDEF-20160220 (m)':'Bottom Depth CCSF (m)'},inplace=True)\n",
    "section_list['Length (m)']=section_list['Bottom Depth CCSF (m)']-section_list['Top Depth CCSF (m)']\n",
    "section_list=section_list.set_index('SectionLabel',drop=False)"
   ]
  },
  {
   "cell_type": "code",
   "execution_count": 4,
   "id": "98a20923",
   "metadata": {
    "tags": []
   },
   "outputs": [],
   "source": [
    "sections=section_list[(section_list['Top Depth CCSF (m)']<205)&\n",
    "                      (section_list['Sect']!='CC')]['SectionLabel'].reset_index(drop=True)"
   ]
  },
  {
   "cell_type": "markdown",
   "id": "7f292cba",
   "metadata": {},
   "source": [
    "### Import Green"
   ]
  },
  {
   "cell_type": "code",
   "execution_count": 9,
   "id": "a1b1e54d",
   "metadata": {
    "tags": []
   },
   "outputs": [],
   "source": [
    "green_intensity_extension='Green_Data/Green_Intensity_Splices/U1474/'"
   ]
  },
  {
   "cell_type": "code",
   "execution_count": 10,
   "id": "8b34e9fc",
   "metadata": {
    "tags": []
   },
   "outputs": [],
   "source": [
    "greenIntensity={}\n",
    "for hole in ['A','B','C','D','F']:\n",
    "    greenIntensity[hole]=pd.read_csv(data_path+green_intensity_extension+hole+'.csv',index_col='CCSF Depth (m)')"
   ]
  },
  {
   "cell_type": "markdown",
   "id": "b16976c6",
   "metadata": {},
   "source": [
    "### Load core photos"
   ]
  },
  {
   "cell_type": "code",
   "execution_count": 11,
   "id": "506bf4ab",
   "metadata": {
    "tags": []
   },
   "outputs": [],
   "source": [
    "cpmd=pd.read_csv(data_path+'U1474/corePhotosMetadataU1474.csv')\n",
    "cpmd['SectionLabel']=cpmd['Site']+cpmd['Hole']+'_'+cpmd['Core'].map(str)+cpmd['Type']+cpmd['Sect'].map(str)\n",
    "cpmd['Cropped image filename (JPEG)']=cpmd['Cropped image filename'].str[:-4]+'.jpeg'\n",
    "iddrop=cpmd[(cpmd['SectionLabel']=='U1474F_6H2')&(cpmd['A/W']=='W')].index\n",
    "cpmd=cpmd.drop(iddrop)\n",
    "cpmd.set_index('SectionLabel',inplace=True)\n",
    "cpmd=cpmd[cpmd['Display status (T/F)']=='T']"
   ]
  },
  {
   "cell_type": "code",
   "execution_count": 12,
   "id": "a962af0c",
   "metadata": {
    "tags": []
   },
   "outputs": [],
   "source": [
    "def path_finder(section):\n",
    "    if section[5]=='A':\n",
    "        path='/Volumes/SanDisk.Data/IODPU1474CorePhotos/Raw/361-U1474A-LSIMG/'\n",
    "    elif section[5]=='B':\n",
    "        path='/Volumes/SanDisk.Data/IODPU1474CorePhotos/Raw/361-U1474B-LSIMG/'\n",
    "    elif section[5]=='C':\n",
    "        path='/Volumes/SanDisk.Data/IODPU1474CorePhotos/Raw/361-U1474C-LSIMG/'\n",
    "    elif section[5]=='D':\n",
    "        path='/Volumes/SanDisk.Data/IODPU1474CorePhotos/Raw/361-U1474D-LSIMG/'\n",
    "    elif section[5]=='E':\n",
    "        path='/Volumes/SanDisk.Data/IODPU1474CorePhotos/Raw/361-U1474E-LSIMG/'\n",
    "    else:\n",
    "        path='/Volumes/SanDisk.Data/IODPU1474CorePhotos/Raw/361-U1474F-LSIMG/'\n",
    "    return path"
   ]
  },
  {
   "cell_type": "code",
   "execution_count": 13,
   "id": "9c3cb951",
   "metadata": {
    "tags": []
   },
   "outputs": [],
   "source": [
    "greens=pd.read_csv(checkpoints_path+'green.peak.labeling.U1474.csv',index_col='Top Depth CCSF (m)')"
   ]
  },
  {
   "cell_type": "markdown",
   "id": "36f66797-b33f-4375-b3f9-c3e7d16dc643",
   "metadata": {},
   "source": [
    "## Classify\n",
    "### Define Threshold-Picking Function"
   ]
  },
  {
   "cell_type": "code",
   "execution_count": 15,
   "id": "feedb9d9",
   "metadata": {
    "tags": []
   },
   "outputs": [],
   "source": [
    "import warnings\n",
    "warnings.filterwarnings(\"ignore\", category=UserWarning)"
   ]
  },
  {
   "cell_type": "code",
   "execution_count": 14,
   "id": "dfdc0fd3",
   "metadata": {
    "tags": []
   },
   "outputs": [],
   "source": [
    "def check(n):\n",
    "    greens=pd.read_csv(checkpoints_path+'green.peak.labeling.U1474.csv',index_col='Top Depth CCSF (m)')\n",
    "    sample=greens.iloc[n]\n",
    "    top_depth=sample.name\n",
    "    bottom_depth=sample['Bottom Depth CCSF (m)']\n",
    "    top_offset=sample['Top Offset (cm)']/100\n",
    "    bottom_offset=sample['Bottom Offset (cm)']/100\n",
    "    sect=sample['SectionLabel']\n",
    "    hole=sect[5]\n",
    "    number=sections[sections=='U1474A_1H1'].index[0]\n",
    "    buffer=.2\n",
    "    green=greenIntensity[hole].copy()\n",
    "    greendata=green[green['SectionLabel']==sect]\n",
    "    greendata=greendata.loc[top_depth-buffer:bottom_depth+buffer]\n",
    "\n",
    "    fig=plt.figure(figsize=(14,7))\n",
    "    gs = gridspec.GridSpec(8, 1, figure=fig,hspace=.02,left=.05,right=.95,top=.95)\n",
    "\n",
    "    c1=fig.add_subplot(gs[:3,:])\n",
    "    c2=fig.add_subplot(gs[3:6,:])\n",
    "    ax1=fig.add_subplot(gs[6:8,:])\n",
    "\n",
    "    c1.set_title('Hole '+sect[5]+' Core '+sect[7:],\n",
    "                  fontweight='bold',fontsize=20,pad=0,loc='left')\n",
    "    c1.annotate('Number '+str(number+1)+'/213',xy=(1,1),xycoords='axes fraction',\n",
    "                fontweight='bold',fontsize=20,horizontalalignment='right',verticalalignment='bottom')\n",
    "    \n",
    "    sect_length=(section_list.loc[sect,'Bottom Depth CCSF (m)']-\n",
    "                  section_list.loc[sect,'Top Depth CCSF (m)'])\n",
    "    \n",
    "    raw_path=path_finder(sect)\n",
    "    raw_img=Image.open(raw_path+cpmd.loc[sect,'Cropped image filename'][:-4]+'-LSIMG.jpg')\n",
    "    filt_img=Image.open(filtered_cores+cpmd.loc[sect,'Cropped image filename'])\n",
    "    \n",
    "    h=raw_img.size[0]\n",
    "    w=raw_img.size[1]\n",
    "    aspect=(w/h)\n",
    "    naspest=((16.6/aspect)-1)/2\n",
    "    \n",
    "    \n",
    "    pxl_m=w/sect_length\n",
    "    extentlist=[top_depth-buffer,\n",
    "                bottom_depth+buffer,\n",
    "                0,sect_length/aspect]\n",
    "    sample_top_pxl=int(top_offset*pxl_m)\n",
    "    sample_bottom_pxl=int(bottom_offset*pxl_m)\n",
    "    pxl_offset=int(buffer*pxl_m)\n",
    "    \n",
    "    raw=raw_img.rotate(90,expand=True).crop((sample_top_pxl-pxl_offset,0,sample_bottom_pxl+pxl_offset,h))\n",
    "    filt=filt_img.crop((sample_top_pxl-pxl_offset,0, sample_bottom_pxl+pxl_offset,h))\n",
    "    \n",
    "    c1.imshow(raw,extent=extentlist)\n",
    "    c1.axis('off')\n",
    "    \n",
    "    c2.imshow(filt,extent=extentlist)\n",
    "    c2.axis('off')\n",
    "    \n",
    "#     data.plot(ax=ax1,marker='o',ms=3,c=colors[-3])\n",
    "    greendata['Green%'].plot(kind='area',ax=ax1,color='tab:green')\n",
    "#     ax1.set_ylim(0,100)\n",
    "    \n",
    "    cols=['% Pixels']\n",
    "    for i,a in enumerate([ax1]):\n",
    "        a.set_ylabel(cols[i])\n",
    "    for i,a in enumerate([c1,c2,ax1]):\n",
    "        a.set_xlim(top_depth-buffer,bottom_depth+buffer)\n",
    "\n",
    "    ## Annotate\n",
    "    ax1.set_xlabel('Depth (m CCSF)');\n",
    "    box=dict(boxstyle=\"round\",ec=(0,0,0),fc=(1,1,1),clip_on=True)\n",
    "    for ax in [ax1]:\n",
    "        ax.axvline(top_depth,color='k')\n",
    "        ax.axvline(bottom_depth,color='k')\n",
    "        ax1.annotate(n,xy=(bottom_depth+.015,greendata['Green%'].max()*.9),ha='left',size=16,bbox=box)\n",
    "    \n",
    "    ## Question\n",
    "    print('Is ',n,'\\n',\n",
    "          '(1) a diffuse, mottled green band?\\t',\n",
    "          '(2) a diffuse, continuous green band?\\n',\n",
    "          '(3) a crusty, mottled green band?\\t',\n",
    "          '(4) a crusty, continuous green band?\\n',\n",
    "          '(5) flag algorithm problem\\t\\t',\n",
    "          '(0) not a green layer')\n",
    "    plt.show(block=False)\n",
    "    gTF=int(input())\n",
    "    plt.close()\n",
    "    greens.loc[top_depth,'Label']=gTF\n",
    "    greens.to_csv(checkpoints_path+'green.peak.labeling.U1474.csv')"
   ]
  },
  {
   "cell_type": "markdown",
   "id": "8fad98ff",
   "metadata": {},
   "source": [
    "## Check"
   ]
  },
  {
   "cell_type": "code",
   "execution_count": 16,
   "id": "ba1f4fb6",
   "metadata": {
    "tags": []
   },
   "outputs": [],
   "source": [
    "print('Do you need to classify green bands?: (y/n)')\n",
    "classify=str(input())\n",
    "if classify=='y':\n",
    "    print('Enter start n: ')\n",
    "    start_n=int(input())\n",
    "    for i in range(start_n,len(greens)):\n",
    "        check(i)"
   ]
  },
  {
   "cell_type": "markdown",
   "id": "4d0d515e",
   "metadata": {},
   "source": [
    "## Fix Algorithm Problems"
   ]
  },
  {
   "cell_type": "code",
   "execution_count": 39,
   "id": "876be9b6",
   "metadata": {},
   "outputs": [],
   "source": [
    "def makeGraph(n):\n",
    "    greens_depth_fix=pd.read_csv(checkpoints_path+'green.peak.labeling.depths.fixed.csv')\n",
    "    sample=greens_depth_fix.iloc[n]\n",
    "    index=sample.name\n",
    "    top_depth=sample['Top Depth CCSF (m)']\n",
    "    bottom_depth=sample['Bottom Depth CCSF (m)']\n",
    "    top_offset=sample['Top Offset (cm)']/100\n",
    "    bottom_offset=sample['Bottom Offset (cm)']/100\n",
    "    sect=sample['SectionLabel']\n",
    "    hole=sect[5]\n",
    "    number=sections[sections=='U1474A_1H1'].index[0]\n",
    "    buffer=.2\n",
    "    green=greenIntensity[hole].copy()\n",
    "    greendata=green[green['SectionLabel']==sect]\n",
    "    greendata=greendata.loc[top_depth-buffer:bottom_depth+buffer]\n",
    "\n",
    "    fig=plt.figure(figsize=(14,7))\n",
    "    gs = gridspec.GridSpec(8, 1, figure=fig,hspace=.02,left=.05,right=.95,top=.95)\n",
    "\n",
    "    c1=fig.add_subplot(gs[:3,:])\n",
    "    c2=fig.add_subplot(gs[3:6,:])\n",
    "    ax1=fig.add_subplot(gs[6:8,:])\n",
    "\n",
    "    c1.set_title('Hole '+sect[5]+' Core '+sect[7:],\n",
    "                  fontweight='bold',fontsize=20,pad=0,loc='left')\n",
    "    c1.annotate('Number '+str(number+1)+'/213',xy=(1,1),xycoords='axes fraction',\n",
    "                fontweight='bold',fontsize=20,horizontalalignment='right',verticalalignment='bottom')\n",
    "    \n",
    "    sect_length=(section_list.loc[sect,'Bottom Depth CCSF (m)']-\n",
    "                  section_list.loc[sect,'Top Depth CCSF (m)'])\n",
    "    \n",
    "    raw_path=path_finder(sect)\n",
    "    raw_img=Image.open(raw_path+cpmd.loc[sect,'Cropped image filename'][:-4]+'-LSIMG.jpg')\n",
    "    filt_img=Image.open(filtered_cores+cpmd.loc[sect,'Cropped image filename'])\n",
    "    \n",
    "    h=raw_img.size[0]\n",
    "    w=raw_img.size[1]\n",
    "    aspect=(w/h)\n",
    "    naspest=((16.6/aspect)-1)/2\n",
    "    \n",
    "    \n",
    "    pxl_m=w/sect_length\n",
    "    extentlist=[top_depth-buffer,\n",
    "                bottom_depth+buffer,\n",
    "                0,sect_length/aspect]\n",
    "    sample_top_pxl=int(top_offset*pxl_m)\n",
    "    sample_bottom_pxl=int(bottom_offset*pxl_m)\n",
    "    pxl_offset=int(buffer*pxl_m)\n",
    "    \n",
    "    raw=raw_img.rotate(90,expand=True).crop((sample_top_pxl-pxl_offset,0,sample_bottom_pxl+pxl_offset,h))\n",
    "    filt=filt_img.crop((sample_top_pxl-pxl_offset,0, sample_bottom_pxl+pxl_offset,h))\n",
    "    \n",
    "    c1.imshow(raw,extent=extentlist)\n",
    "    c1.axis('off')\n",
    "    \n",
    "    c2.imshow(filt,extent=extentlist)\n",
    "    c2.axis('off')\n",
    "    \n",
    "#     data.plot(ax=ax1,marker='o',ms=3,c=colors[-3])\n",
    "    greendata['Green%'].plot(kind='area',ax=ax1,color='tab:green')\n",
    "#     ax1.set_ylim(0,100)\n",
    "    \n",
    "    cols=['% Pixels']\n",
    "    for i,a in enumerate([ax1]):\n",
    "        a.set_ylabel(cols[i])\n",
    "    for i,a in enumerate([c1,c2,ax1]):\n",
    "        a.set_xlim(top_depth-buffer,bottom_depth+buffer)\n",
    "\n",
    "    ## Annotate\n",
    "    ax1.set_xlabel('Depth (m CCSF)');\n",
    "    box=dict(boxstyle=\"round\",ec=(0,0,0),fc=(1,1,1),clip_on=True)\n",
    "    for ax in [ax1]:\n",
    "        ax.axvline(top_depth,color='k')\n",
    "        ax.axvline(bottom_depth,color='k')\n",
    "        ax1.annotate(n,xy=(bottom_depth+.015,greendata['Green%'].max()*.9),ha='left',size=16,bbox=box)\n",
    "    \n",
    "    ax1.xaxis.set_minor_locator(AutoMinorLocator(10))\n",
    "    return index,fig,c1,c2,ax1"
   ]
  },
  {
   "cell_type": "code",
   "execution_count": 44,
   "id": "fdcad6a6",
   "metadata": {},
   "outputs": [],
   "source": [
    "def fix(n):\n",
    "    ## Question\n",
    "    correct='n'\n",
    "    while correct=='n':\n",
    "        index,fig,c1,c2,ax1=makeGraph(n)\n",
    "        print('What should be the correct top depth for ',n,'?')\n",
    "        plt.show(block=False)\n",
    "        new_top=float(input())\n",
    "        print('What should be the correct bottom depth for ',n,'?')\n",
    "        new_bottom=float(input())\n",
    "        plt.close()\n",
    "    \n",
    "        q=0\n",
    "        while q==0:\n",
    "            index,fig,c1,c2,ax1=makeGraph(n)\n",
    "            ax1.axvline(new_top,color='r')\n",
    "            ax1.axvline(new_bottom,color='r')\n",
    "            plt.show(block=False)\n",
    "            print('Does this look correct?')\n",
    "            correct=str(input())\n",
    "            if correct=='y':\n",
    "                q=1\n",
    "            elif start=='n':\n",
    "                q=1\n",
    "            else:\n",
    "                print('Invalid input')\n",
    "        plt.close()\n",
    "        \n",
    "    index,fig,c1,c2,ax1=makeGraph(n)\n",
    "    ax1.axvline(new_top,color='r')\n",
    "    ax1.axvline(new_bottom,color='r')\n",
    "    plt.show(block=False)\n",
    "    print('Is ',n,'\\n',\n",
    "          '(1) a diffuse, mottled green layer?\\t',\n",
    "          '(2) a diffuse, continuous green layer?\\n',\n",
    "          '(3) a crusty, mottled green layer?\\t',\n",
    "          '(4) a crusty, continuous green layer?\\n',\n",
    "          '(0) not a green layer')\n",
    "    gTF=int(input())\n",
    "    plt.close()\n",
    "        \n",
    "    greens_depth_fix.loc[index,'Label']=gTF\n",
    "    greens_depth_fix.loc[index,'Top Depth CCSF (m)']=new_top\n",
    "    greens_depth_fix.loc[index,'Bottom Depth CCSF (m)']=new_bottom\n",
    "    greens_depth_fix.to_csv(checkpoints_path+'green.peak.labeling.depths.fixed.csv',index=False)"
   ]
  },
  {
   "cell_type": "code",
   "execution_count": 50,
   "id": "a7524849",
   "metadata": {},
   "outputs": [],
   "source": [
    "print('Do you need to fix depths?: (y/n)')\n",
    "depths=str(input())\n",
    "if depths=='y':\n",
    "    q=0\n",
    "    while q==0:\n",
    "        print('Do you want to start from scratch?: (y/n)')\n",
    "        start=str(input())\n",
    "        if start=='y':\n",
    "            greens_depth_fix=pd.read_csv(checkpoints_path+'greenLayerLabeling.csv')\n",
    "            greens_depth_fix.to_csv(checkpoints_path+'green.peak.labeling.depths.fixed.csv',index=False)\n",
    "            q=1\n",
    "        elif start=='n':\n",
    "            greens_depth_fix=pd.read_csv(checkpoints_path+'green.peak.labeling.depths.fixed.csv')\n",
    "            q=1\n",
    "        else:\n",
    "            print('Invalid input')\n",
    "            \n",
    "    fixes=greens_depth_fix.loc[greens_depth_fix['Label']==5,'N (new)'].to_list()\n",
    "    \n",
    "    print('Enter start n: ')\n",
    "    start_n=int(input())\n",
    "    for l in fixes[start_n:]:\n",
    "        fix(l)"
   ]
  },
  {
   "cell_type": "code",
   "execution_count": 46,
   "id": "faaeda10",
   "metadata": {},
   "outputs": [],
   "source": [
    "# greens_depth_fix=pd.read_csv(checkpoints_path+'green.peak.labeling.depths.fixed.csv')\n",
    "# greens_depth_fix.to_csv(table_path+'Supplementary Table 6A - U1474 green bands.csv',index=False)"
   ]
  }
 ],
 "metadata": {
  "kernelspec": {
   "display_name": "Python 3 (ipykernel)",
   "language": "python",
   "name": "python3"
  },
  "language_info": {
   "codemirror_mode": {
    "name": "ipython",
    "version": 3
   },
   "file_extension": ".py",
   "mimetype": "text/x-python",
   "name": "python",
   "nbconvert_exporter": "python",
   "pygments_lexer": "ipython3",
   "version": "3.8.18"
  }
 },
 "nbformat": 4,
 "nbformat_minor": 5
}

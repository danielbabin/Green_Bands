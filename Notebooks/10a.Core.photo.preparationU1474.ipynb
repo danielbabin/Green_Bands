{
 "cells": [
  {
   "cell_type": "markdown",
   "metadata": {},
   "source": [
    "# 08. Core photo preparation U1474\n",
    "This step is necessary because the photos are a bit too large to play with in these notebooks, in the 1-5 MB range. Many of these notebooks include lots of photos of cores, so if they are too big, the memory on my little MacBook Air gets overwhelmed. Also, I rotate them in this step so if all I want to do is make a simple plot with the core, I won't need to rotate them again. "
   ]
  },
  {
   "cell_type": "markdown",
   "metadata": {},
   "source": [
    "## Setup\n",
    "### Import Modules"
   ]
  },
  {
   "cell_type": "code",
   "execution_count": 1,
   "metadata": {
    "tags": []
   },
   "outputs": [],
   "source": [
    "import pandas as pd\n",
    "from IPython.display import clear_output\n",
    "import time\n",
    "import cv2 as cv"
   ]
  },
  {
   "cell_type": "markdown",
   "metadata": {},
   "source": [
    "### Set Paths"
   ]
  },
  {
   "cell_type": "code",
   "execution_count": 2,
   "metadata": {
    "tags": []
   },
   "outputs": [],
   "source": [
    "data_path='/Users/danielbabin/GitHub/Green_Bands/Data/'\n",
    "lowres='/Volumes/SanDisk.Data/IODPU1474CorePhotos/LowRes/Raw/'\n",
    "medres='/Volumes/SanDisk.Data/IODPU1474CorePhotos/MedRes/'"
   ]
  },
  {
   "cell_type": "markdown",
   "metadata": {},
   "source": [
    "### Import Splice Info"
   ]
  },
  {
   "cell_type": "code",
   "execution_count": 3,
   "metadata": {
    "tags": []
   },
   "outputs": [],
   "source": [
    "splice=pd.read_csv(data_path+'SpliceTables/spliceConstructionE361.csv')\n",
    "splice=splice[splice['Site']=='U1474']\n",
    "splice['CoreLabel']=(splice['Site']+splice['Hole']+'_'+splice['Core'].map(str))\n",
    "\n",
    "section_list=pd.read_csv(data_path+'SectionSummaries/sectionSummaryU1474.csv')\n",
    "section_list['SectionLabel']=(section_list['Site']+section_list['Hole']+'_'+\n",
    "                              section_list['Core'].map(str)+section_list['Type']+\n",
    "                              section_list['Sect'].map(str))\n",
    "section_list=section_list.rename(columns={'Top depth CCSF-361-U1474-ABDEF-20160220 (m)':'Top depth CCSF (m)',\n",
    "                                          'Bottom depth CCSF-361-U1474-ABDEF-20160220 (m)':'Bottom depth CCSF (m)'})"
   ]
  },
  {
   "cell_type": "markdown",
   "metadata": {},
   "source": [
    "### Create List of Splice Sections"
   ]
  },
  {
   "cell_type": "code",
   "execution_count": 4,
   "metadata": {
    "tags": []
   },
   "outputs": [],
   "source": [
    "splice_sections=[]\n",
    "for i in splice.index:\n",
    "    for s in range(splice.loc[i,'Top section'],splice.loc[i,'Bottom section']+1):\n",
    "        entry=(splice.loc[i,'Site']+splice.loc[i,'Hole']+'_'+splice.loc[i,'Core'].astype(str)+\n",
    "                       splice.loc[i,'Type']+str(s))\n",
    "        splice_sections.append(entry)"
   ]
  },
  {
   "cell_type": "code",
   "execution_count": 5,
   "metadata": {
    "tags": []
   },
   "outputs": [],
   "source": [
    "pd.DataFrame(splice_sections,columns=['sectionLabel']).to_csv(data_path+\n",
    "                                                              'SectionSummaries/spliceSectionListU1474.csv',\n",
    "                                                              index=False)"
   ]
  },
  {
   "cell_type": "code",
   "execution_count": 6,
   "metadata": {
    "tags": []
   },
   "outputs": [],
   "source": [
    "sections=section_list[(section_list['Top depth CCSF (m)']<205)&\n",
    "                      (section_list['Sect']!='CC')]['SectionLabel']"
   ]
  },
  {
   "cell_type": "markdown",
   "metadata": {},
   "source": [
    "### Import Metadata for Core Photos"
   ]
  },
  {
   "cell_type": "code",
   "execution_count": 7,
   "metadata": {
    "tags": []
   },
   "outputs": [],
   "source": [
    "cpmd=pd.read_csv(data_path+'U1474/corePhotosMetadataU1474.csv')\n",
    "cpmd['SectionLabel']=cpmd['Site']+cpmd['Hole']+'_'+cpmd['Core'].map(str)+cpmd['Type']+cpmd['Sect'].map(str)\n",
    "iddrop=cpmd[(cpmd['SectionLabel']=='U1474F_6H2')&(cpmd['A/W']=='W')].index\n",
    "cpmd=cpmd.drop(iddrop)\n",
    "cpmd['Cropped image filename (JPEG)']=cpmd['Cropped image filename'].str[:-4]+'.jpeg'\n",
    "cpmd.set_index('SectionLabel',inplace=True)\n",
    "cpmd=cpmd[cpmd['Display status (T/F)']=='T']"
   ]
  },
  {
   "cell_type": "markdown",
   "metadata": {},
   "source": [
    "## Resize and Rotate Photos\n",
    "I write everything in functions because it saves memory."
   ]
  },
  {
   "cell_type": "markdown",
   "metadata": {},
   "source": [
    "### Path Finding Function\n",
    "The IODP download on Zenodo breaks the photos up by their hole, so it's a little extra effort to find the path to the right photo."
   ]
  },
  {
   "cell_type": "code",
   "execution_count": 8,
   "metadata": {
    "tags": []
   },
   "outputs": [],
   "source": [
    "def path_finder(section):\n",
    "    if section[5]=='A':\n",
    "        path='/Volumes/SanDisk.Data/IODPU1474CorePhotos/Raw/361-U1474A-LSIMG/'\n",
    "    elif section[5]=='B':\n",
    "        path='/Volumes/SanDisk.Data/IODPU1474CorePhotos/Raw/361-U1474B-LSIMG/'\n",
    "    elif section[5]=='C':\n",
    "        path='/Volumes/SanDisk.Data/IODPU1474CorePhotos/Raw/361-U1474C-LSIMG/'\n",
    "    elif section[5]=='D':\n",
    "        path='/Volumes/SanDisk.Data/IODPU1474CorePhotos/Raw/361-U1474D-LSIMG/'\n",
    "    elif section[5]=='E':\n",
    "        path='/Volumes/SanDisk.Data/IODPU1474CorePhotos/Raw/361-U1474E-LSIMG/'\n",
    "    else:\n",
    "        path='/Volumes/SanDisk.Data/IODPU1474CorePhotos/Raw/361-U1474F-LSIMG/'\n",
    "    return path"
   ]
  },
  {
   "cell_type": "markdown",
   "metadata": {},
   "source": [
    "### Function for reducing image size, rotating it, and exporting it\n",
    "For this, I use the package OpenCV's resize and rotate methods."
   ]
  },
  {
   "cell_type": "code",
   "execution_count": 9,
   "metadata": {},
   "outputs": [],
   "source": [
    "def shrink_rotate_write(section,shrinkfactor):\n",
    "    path=path_finder(section)\n",
    "    raw = cv.imread(path+cpmd.loc[section,'Cropped image filename'][:-4]+'-LSIMG.jpg')\n",
    "    size=raw.shape\n",
    "    newsize=tuple((int(size[1]/shrinkfactor),int(size[0]/shrinkfactor)))\n",
    "    sraw=cv.resize(raw,newsize,interpolation = cv.INTER_AREA)\n",
    "    srotraw=cv.rotate(sraw, cv.ROTATE_90_COUNTERCLOCKWISE)\n",
    "    cv.imwrite(lowres+cpmd.loc[section,'Cropped image filename'],srotraw)"
   ]
  },
  {
   "cell_type": "code",
   "execution_count": 14,
   "metadata": {},
   "outputs": [
    {
     "name": "stdout",
     "output_type": "stream",
     "text": [
      "Current progress:  99.81 %\n",
      "Current run time:  5.07  minutes\n",
      "Expected run time:  5.08  minutes\n"
     ]
    }
   ],
   "source": [
    "start=time.time()\n",
    "for i,s in enumerate(sections):\n",
    "    clear_output(wait=True)\n",
    "    shrink_rotate_write(s,15)\n",
    "    stop=time.time()-start\n",
    "    if i/len(sections)*100<2:\n",
    "        expected_time='Calculating...'\n",
    "    else:\n",
    "        expected_time=round((stop-0)/(i/len(sections))/60,2)\n",
    "    print('Current progress: ',round(i/len(sections)*100,2),'%')\n",
    "    print('Current run time: ',round((stop-0)/60,2),' minutes')\n",
    "    print('Expected run time: ',expected_time,' minutes')"
   ]
  },
  {
   "cell_type": "markdown",
   "metadata": {},
   "source": [
    "## Collect Splice Sections\n",
    "This takes all of the sections in the splice and puts the full size photo in a new directory. Having only the splice sections there makes some steps a little easier."
   ]
  },
  {
   "cell_type": "code",
   "execution_count": 15,
   "metadata": {},
   "outputs": [],
   "source": [
    "section_path='/Volumes/SanDisk.Data/IODPU1474CorePhotos/SpliceSections/'"
   ]
  },
  {
   "cell_type": "code",
   "execution_count": 16,
   "metadata": {},
   "outputs": [],
   "source": [
    "def rotate_photo(section):\n",
    "    path=path_finder(section)\n",
    "    raw = cv.imread(path+cpmd.loc[section,'Cropped image filename'][:-4]+'-LSIMG.jpg')\n",
    "    rotraw=cv.rotate(raw, cv.ROTATE_90_COUNTERCLOCKWISE)\n",
    "    cv.imwrite(section_path+cpmd.loc[section,'Cropped image filename'],rotraw)"
   ]
  },
  {
   "cell_type": "code",
   "execution_count": 17,
   "metadata": {},
   "outputs": [
    {
     "name": "stdout",
     "output_type": "stream",
     "text": [
      "534 / 535\n"
     ]
    }
   ],
   "source": [
    "for i,s in enumerate(sections):\n",
    "    clear_output(wait=True)\n",
    "    rotate_photo(s)\n",
    "    print(i,'/',len(sections))"
   ]
  },
  {
   "cell_type": "markdown",
   "metadata": {},
   "source": [
    "## Splice Sections Med Res"
   ]
  },
  {
   "cell_type": "code",
   "execution_count": 21,
   "metadata": {
    "tags": []
   },
   "outputs": [],
   "source": [
    "splice_sections=pd.read_csv(data_path+'SectionSummaries/spliceSectionListU1474.csv')['sectionLabel']"
   ]
  },
  {
   "cell_type": "code",
   "execution_count": 22,
   "metadata": {
    "tags": []
   },
   "outputs": [],
   "source": [
    "def shrink_rotate_write(section,shrinkfactor):\n",
    "    path=path_finder(section)\n",
    "    raw = cv.imread(path+cpmd.loc[section,'Cropped image filename'][:-4]+'-LSIMG.jpg')\n",
    "    size=raw.shape\n",
    "    newsize=tuple((int(size[1]/shrinkfactor),int(size[0]/shrinkfactor)))\n",
    "    sraw=cv.resize(raw,newsize,interpolation = cv.INTER_AREA)\n",
    "    srotraw=cv.rotate(sraw, cv.ROTATE_90_COUNTERCLOCKWISE)\n",
    "    cv.imwrite(medres+cpmd.loc[section,'Cropped image filename'],srotraw)"
   ]
  },
  {
   "cell_type": "code",
   "execution_count": 24,
   "metadata": {
    "tags": []
   },
   "outputs": [
    {
     "name": "stdout",
     "output_type": "stream",
     "text": [
      "Current progress:  99.54 %\n",
      "Current run time:  0.88  minutes\n",
      "Expected run time:  0.88  minutes\n"
     ]
    }
   ],
   "source": [
    "start=time.time()\n",
    "for i,s in enumerate(splice_sections):\n",
    "    clear_output(wait=True)\n",
    "    shrink_rotate_write(s,4)\n",
    "    stop=time.time()-start\n",
    "    if i/len(sections)*100<2:\n",
    "        expected_time='Calculating...'\n",
    "    else:\n",
    "        expected_time=round((stop-0)/(i/len(splice_sections))/60,2)\n",
    "    print('Current progress: ',round(i/len(splice_sections)*100,2),'%')\n",
    "    print('Current run time: ',round((stop-0)/60,2),' minutes')\n",
    "    print('Expected run time: ',expected_time,' minutes')"
   ]
  }
 ],
 "metadata": {
  "kernelspec": {
   "display_name": "Python 3 (ipykernel)",
   "language": "python",
   "name": "python3"
  },
  "language_info": {
   "codemirror_mode": {
    "name": "ipython",
    "version": 3
   },
   "file_extension": ".py",
   "mimetype": "text/x-python",
   "name": "python",
   "nbconvert_exporter": "python",
   "pygments_lexer": "ipython3",
   "version": "3.8.18"
  }
 },
 "nbformat": 4,
 "nbformat_minor": 4
}

{
 "cells": [
  {
   "cell_type": "markdown",
   "metadata": {},
   "source": [
    "# XRF Spectral Data-Preprocessing\n",
    "In this notebook, we:<br>\n",
    "* Perform a running sum on the spectra from the raw XRF data to increase the signal to noise ratio <br>\n",
    "* Export the data so that it can be reduced in Q-Spec, the ITRAX software.<br>\n",
    "* Reimport the data and putt XRF element intensities on a depth scale, selecting only the splice intervals<br>\n",
    "\n",
    "This step is necessitated by noisy data produced by such short rapid exposure times"
   ]
  },
  {
   "cell_type": "markdown",
   "metadata": {},
   "source": [
    "## Setup\n",
    "### Import Modules"
   ]
  },
  {
   "cell_type": "code",
   "execution_count": 1,
   "metadata": {},
   "outputs": [],
   "source": [
    "import pandas as pd\n",
    "import numpy as np\n",
    "import matplotlib.pyplot as plt\n",
    "from os import listdir\n",
    "import os\n",
    "import shutil\n",
    "from IPython.display import clear_output"
   ]
  },
  {
   "cell_type": "markdown",
   "metadata": {},
   "source": [
    "### Set Paths\n",
    "The 10 GB of raw data are located on an external hardrive, this link will not work on github."
   ]
  },
  {
   "cell_type": "code",
   "execution_count": 2,
   "metadata": {},
   "outputs": [],
   "source": [
    "U1474='/Users/danielbabin/GitHub/U1474_XRF_Data_Report/Data/EXP361-U1474/'"
   ]
  },
  {
   "cell_type": "markdown",
   "metadata": {},
   "source": [
    "### Get Core Names\n",
    "I'll need to link to a directory in each core's file that has the raw spectra files"
   ]
  },
  {
   "cell_type": "code",
   "execution_count": 3,
   "metadata": {},
   "outputs": [],
   "source": [
    "U1474_sections=listdir(U1474)\n",
    "U1474_sections.sort()\n",
    "U1474_sections=U1474_sections[1:]"
   ]
  },
  {
   "cell_type": "markdown",
   "metadata": {},
   "source": [
    "## Pre-Process Data\n",
    "The steps for each core section (213 in all):<br>\n",
    "1) Load all files in the section's directory as dataframes into a dictionary. <br>\n",
    "2) Turn that dictionary into a single dataframe, where each column is one of the spectra. <br>\n",
    "3) Do a 10-pt running sum of those spectra and selected every 10th one. This turns 10 spectra into one taller one. <br>\n",
    "4) Turn that dataframe back into a a dictionary and a csv that Qspec can read.<br>\n",
    "5) Write the resulting file into a directory on the external hardrive called 'New XRF Data\"<br>"
   ]
  },
  {
   "cell_type": "code",
   "execution_count": 7,
   "metadata": {},
   "outputs": [],
   "source": [
    "all_results_path='/Users/danielbabin/GitHub/U1474_XRF_Data_Report/Data/New_XRF_Data/'\n",
    "summed_results_path='/Users/danielbabin/GitHub/U1474_XRF_Data_Report/Data/New_XRF_Data_Summed/'"
   ]
  },
  {
   "cell_type": "markdown",
   "metadata": {},
   "source": [
    "### Collect Non-Problematic Sections"
   ]
  },
  {
   "cell_type": "code",
   "execution_count": 8,
   "metadata": {},
   "outputs": [],
   "source": [
    "main=pd.DataFrame(U1474_sections)\n",
    "main=main[(main.index!=19)&(main.index!=55)&(main.index!=83)&(main.index!=84)]\n",
    "main=main[0].to_list()[:-1]"
   ]
  },
  {
   "cell_type": "markdown",
   "metadata": {},
   "source": [
    "### Investigate Range of Normal Total Signals"
   ]
  },
  {
   "cell_type": "code",
   "execution_count": 6,
   "metadata": {},
   "outputs": [
    {
     "ename": "ParserError",
     "evalue": "Error tokenizing data. C error: Calling read(nbytes) on source failed. Try engine='python'.",
     "output_type": "error",
     "traceback": [
      "\u001b[0;31m---------------------------------------------------------------------------\u001b[0m",
      "\u001b[0;31mParserError\u001b[0m                               Traceback (most recent call last)",
      "Input \u001b[0;32mIn [6]\u001b[0m, in \u001b[0;36m<cell line: 2>\u001b[0;34m()\u001b[0m\n\u001b[1;32m      9\u001b[0m dct\u001b[38;5;241m=\u001b[39m{}\n\u001b[1;32m     10\u001b[0m \u001b[38;5;28;01mfor\u001b[39;00m file \u001b[38;5;129;01min\u001b[39;00m files:\n\u001b[0;32m---> 11\u001b[0m         dct[file]\u001b[38;5;241m=\u001b[39m\u001b[43mpd\u001b[49m\u001b[38;5;241;43m.\u001b[39;49m\u001b[43mread_csv\u001b[49m\u001b[43m(\u001b[49m\u001b[43mcore\u001b[49m\u001b[38;5;241;43m+\u001b[39;49m\u001b[43mfile\u001b[49m\u001b[43m,\u001b[49m\u001b[43msep\u001b[49m\u001b[38;5;241;43m=\u001b[39;49m\u001b[38;5;124;43m'\u001b[39;49m\u001b[38;5;130;43;01m\\t\u001b[39;49;00m\u001b[38;5;124;43m'\u001b[39;49m\u001b[43m,\u001b[49m\u001b[43mindex_col\u001b[49m\u001b[38;5;241;43m=\u001b[39;49m\u001b[38;5;124;43m'\u001b[39;49m\u001b[38;5;124;43mDate:\u001b[39;49m\u001b[38;5;124;43m'\u001b[39;49m\u001b[43m)\u001b[49m\n\u001b[1;32m     12\u001b[0m df\u001b[38;5;241m=\u001b[39mpd\u001b[38;5;241m.\u001b[39mconcat([dct[file]\u001b[38;5;241m.\u001b[39miloc[\u001b[38;5;241m30\u001b[39m:,\u001b[38;5;241m0\u001b[39m]\u001b[38;5;241m.\u001b[39mastype(\u001b[38;5;28mint\u001b[39m) \u001b[38;5;28;01mfor\u001b[39;00m file \u001b[38;5;129;01min\u001b[39;00m files],axis\u001b[38;5;241m=\u001b[39m\u001b[38;5;124m'\u001b[39m\u001b[38;5;124mcolumns\u001b[39m\u001b[38;5;124m'\u001b[39m)\n\u001b[1;32m     13\u001b[0m df\u001b[38;5;241m.\u001b[39mcolumns\u001b[38;5;241m=\u001b[39m\u001b[38;5;28mlist\u001b[39m(dct\u001b[38;5;241m.\u001b[39mkeys())\n",
      "File \u001b[0;32m~/.local/lib/python3.8/site-packages/pandas/util/_decorators.py:311\u001b[0m, in \u001b[0;36mdeprecate_nonkeyword_arguments.<locals>.decorate.<locals>.wrapper\u001b[0;34m(*args, **kwargs)\u001b[0m\n\u001b[1;32m    305\u001b[0m \u001b[38;5;28;01mif\u001b[39;00m \u001b[38;5;28mlen\u001b[39m(args) \u001b[38;5;241m>\u001b[39m num_allow_args:\n\u001b[1;32m    306\u001b[0m     warnings\u001b[38;5;241m.\u001b[39mwarn(\n\u001b[1;32m    307\u001b[0m         msg\u001b[38;5;241m.\u001b[39mformat(arguments\u001b[38;5;241m=\u001b[39marguments),\n\u001b[1;32m    308\u001b[0m         \u001b[38;5;167;01mFutureWarning\u001b[39;00m,\n\u001b[1;32m    309\u001b[0m         stacklevel\u001b[38;5;241m=\u001b[39mstacklevel,\n\u001b[1;32m    310\u001b[0m     )\n\u001b[0;32m--> 311\u001b[0m \u001b[38;5;28;01mreturn\u001b[39;00m \u001b[43mfunc\u001b[49m\u001b[43m(\u001b[49m\u001b[38;5;241;43m*\u001b[39;49m\u001b[43margs\u001b[49m\u001b[43m,\u001b[49m\u001b[43m \u001b[49m\u001b[38;5;241;43m*\u001b[39;49m\u001b[38;5;241;43m*\u001b[39;49m\u001b[43mkwargs\u001b[49m\u001b[43m)\u001b[49m\n",
      "File \u001b[0;32m~/.local/lib/python3.8/site-packages/pandas/io/parsers/readers.py:586\u001b[0m, in \u001b[0;36mread_csv\u001b[0;34m(filepath_or_buffer, sep, delimiter, header, names, index_col, usecols, squeeze, prefix, mangle_dupe_cols, dtype, engine, converters, true_values, false_values, skipinitialspace, skiprows, skipfooter, nrows, na_values, keep_default_na, na_filter, verbose, skip_blank_lines, parse_dates, infer_datetime_format, keep_date_col, date_parser, dayfirst, cache_dates, iterator, chunksize, compression, thousands, decimal, lineterminator, quotechar, quoting, doublequote, escapechar, comment, encoding, encoding_errors, dialect, error_bad_lines, warn_bad_lines, on_bad_lines, delim_whitespace, low_memory, memory_map, float_precision, storage_options)\u001b[0m\n\u001b[1;32m    571\u001b[0m kwds_defaults \u001b[38;5;241m=\u001b[39m _refine_defaults_read(\n\u001b[1;32m    572\u001b[0m     dialect,\n\u001b[1;32m    573\u001b[0m     delimiter,\n\u001b[0;32m   (...)\u001b[0m\n\u001b[1;32m    582\u001b[0m     defaults\u001b[38;5;241m=\u001b[39m{\u001b[38;5;124m\"\u001b[39m\u001b[38;5;124mdelimiter\u001b[39m\u001b[38;5;124m\"\u001b[39m: \u001b[38;5;124m\"\u001b[39m\u001b[38;5;124m,\u001b[39m\u001b[38;5;124m\"\u001b[39m},\n\u001b[1;32m    583\u001b[0m )\n\u001b[1;32m    584\u001b[0m kwds\u001b[38;5;241m.\u001b[39mupdate(kwds_defaults)\n\u001b[0;32m--> 586\u001b[0m \u001b[38;5;28;01mreturn\u001b[39;00m \u001b[43m_read\u001b[49m\u001b[43m(\u001b[49m\u001b[43mfilepath_or_buffer\u001b[49m\u001b[43m,\u001b[49m\u001b[43m \u001b[49m\u001b[43mkwds\u001b[49m\u001b[43m)\u001b[49m\n",
      "File \u001b[0;32m~/.local/lib/python3.8/site-packages/pandas/io/parsers/readers.py:482\u001b[0m, in \u001b[0;36m_read\u001b[0;34m(filepath_or_buffer, kwds)\u001b[0m\n\u001b[1;32m    479\u001b[0m _validate_names(kwds\u001b[38;5;241m.\u001b[39mget(\u001b[38;5;124m\"\u001b[39m\u001b[38;5;124mnames\u001b[39m\u001b[38;5;124m\"\u001b[39m, \u001b[38;5;28;01mNone\u001b[39;00m))\n\u001b[1;32m    481\u001b[0m \u001b[38;5;66;03m# Create the parser.\u001b[39;00m\n\u001b[0;32m--> 482\u001b[0m parser \u001b[38;5;241m=\u001b[39m \u001b[43mTextFileReader\u001b[49m\u001b[43m(\u001b[49m\u001b[43mfilepath_or_buffer\u001b[49m\u001b[43m,\u001b[49m\u001b[43m \u001b[49m\u001b[38;5;241;43m*\u001b[39;49m\u001b[38;5;241;43m*\u001b[39;49m\u001b[43mkwds\u001b[49m\u001b[43m)\u001b[49m\n\u001b[1;32m    484\u001b[0m \u001b[38;5;28;01mif\u001b[39;00m chunksize \u001b[38;5;129;01mor\u001b[39;00m iterator:\n\u001b[1;32m    485\u001b[0m     \u001b[38;5;28;01mreturn\u001b[39;00m parser\n",
      "File \u001b[0;32m~/.local/lib/python3.8/site-packages/pandas/io/parsers/readers.py:811\u001b[0m, in \u001b[0;36mTextFileReader.__init__\u001b[0;34m(self, f, engine, **kwds)\u001b[0m\n\u001b[1;32m    808\u001b[0m \u001b[38;5;28;01mif\u001b[39;00m \u001b[38;5;124m\"\u001b[39m\u001b[38;5;124mhas_index_names\u001b[39m\u001b[38;5;124m\"\u001b[39m \u001b[38;5;129;01min\u001b[39;00m kwds:\n\u001b[1;32m    809\u001b[0m     \u001b[38;5;28mself\u001b[39m\u001b[38;5;241m.\u001b[39moptions[\u001b[38;5;124m\"\u001b[39m\u001b[38;5;124mhas_index_names\u001b[39m\u001b[38;5;124m\"\u001b[39m] \u001b[38;5;241m=\u001b[39m kwds[\u001b[38;5;124m\"\u001b[39m\u001b[38;5;124mhas_index_names\u001b[39m\u001b[38;5;124m\"\u001b[39m]\n\u001b[0;32m--> 811\u001b[0m \u001b[38;5;28mself\u001b[39m\u001b[38;5;241m.\u001b[39m_engine \u001b[38;5;241m=\u001b[39m \u001b[38;5;28;43mself\u001b[39;49m\u001b[38;5;241;43m.\u001b[39;49m\u001b[43m_make_engine\u001b[49m\u001b[43m(\u001b[49m\u001b[38;5;28;43mself\u001b[39;49m\u001b[38;5;241;43m.\u001b[39;49m\u001b[43mengine\u001b[49m\u001b[43m)\u001b[49m\n",
      "File \u001b[0;32m~/.local/lib/python3.8/site-packages/pandas/io/parsers/readers.py:1040\u001b[0m, in \u001b[0;36mTextFileReader._make_engine\u001b[0;34m(self, engine)\u001b[0m\n\u001b[1;32m   1036\u001b[0m     \u001b[38;5;28;01mraise\u001b[39;00m \u001b[38;5;167;01mValueError\u001b[39;00m(\n\u001b[1;32m   1037\u001b[0m         \u001b[38;5;124mf\u001b[39m\u001b[38;5;124m\"\u001b[39m\u001b[38;5;124mUnknown engine: \u001b[39m\u001b[38;5;132;01m{\u001b[39;00mengine\u001b[38;5;132;01m}\u001b[39;00m\u001b[38;5;124m (valid options are \u001b[39m\u001b[38;5;132;01m{\u001b[39;00mmapping\u001b[38;5;241m.\u001b[39mkeys()\u001b[38;5;132;01m}\u001b[39;00m\u001b[38;5;124m)\u001b[39m\u001b[38;5;124m\"\u001b[39m\n\u001b[1;32m   1038\u001b[0m     )\n\u001b[1;32m   1039\u001b[0m \u001b[38;5;66;03m# error: Too many arguments for \"ParserBase\"\u001b[39;00m\n\u001b[0;32m-> 1040\u001b[0m \u001b[38;5;28;01mreturn\u001b[39;00m \u001b[43mmapping\u001b[49m\u001b[43m[\u001b[49m\u001b[43mengine\u001b[49m\u001b[43m]\u001b[49m\u001b[43m(\u001b[49m\u001b[38;5;28;43mself\u001b[39;49m\u001b[38;5;241;43m.\u001b[39;49m\u001b[43mf\u001b[49m\u001b[43m,\u001b[49m\u001b[43m \u001b[49m\u001b[38;5;241;43m*\u001b[39;49m\u001b[38;5;241;43m*\u001b[39;49m\u001b[38;5;28;43mself\u001b[39;49m\u001b[38;5;241;43m.\u001b[39;49m\u001b[43moptions\u001b[49m\u001b[43m)\u001b[49m\n",
      "File \u001b[0;32m~/.local/lib/python3.8/site-packages/pandas/io/parsers/c_parser_wrapper.py:69\u001b[0m, in \u001b[0;36mCParserWrapper.__init__\u001b[0;34m(self, src, **kwds)\u001b[0m\n\u001b[1;32m     67\u001b[0m kwds[\u001b[38;5;124m\"\u001b[39m\u001b[38;5;124mdtype\u001b[39m\u001b[38;5;124m\"\u001b[39m] \u001b[38;5;241m=\u001b[39m ensure_dtype_objs(kwds\u001b[38;5;241m.\u001b[39mget(\u001b[38;5;124m\"\u001b[39m\u001b[38;5;124mdtype\u001b[39m\u001b[38;5;124m\"\u001b[39m, \u001b[38;5;28;01mNone\u001b[39;00m))\n\u001b[1;32m     68\u001b[0m \u001b[38;5;28;01mtry\u001b[39;00m:\n\u001b[0;32m---> 69\u001b[0m     \u001b[38;5;28mself\u001b[39m\u001b[38;5;241m.\u001b[39m_reader \u001b[38;5;241m=\u001b[39m \u001b[43mparsers\u001b[49m\u001b[38;5;241;43m.\u001b[39;49m\u001b[43mTextReader\u001b[49m\u001b[43m(\u001b[49m\u001b[38;5;28;43mself\u001b[39;49m\u001b[38;5;241;43m.\u001b[39;49m\u001b[43mhandles\u001b[49m\u001b[38;5;241;43m.\u001b[39;49m\u001b[43mhandle\u001b[49m\u001b[43m,\u001b[49m\u001b[43m \u001b[49m\u001b[38;5;241;43m*\u001b[39;49m\u001b[38;5;241;43m*\u001b[39;49m\u001b[43mkwds\u001b[49m\u001b[43m)\u001b[49m\n\u001b[1;32m     70\u001b[0m \u001b[38;5;28;01mexcept\u001b[39;00m \u001b[38;5;167;01mException\u001b[39;00m:\n\u001b[1;32m     71\u001b[0m     \u001b[38;5;28mself\u001b[39m\u001b[38;5;241m.\u001b[39mhandles\u001b[38;5;241m.\u001b[39mclose()\n",
      "File \u001b[0;32m~/.local/lib/python3.8/site-packages/pandas/_libs/parsers.pyx:542\u001b[0m, in \u001b[0;36mpandas._libs.parsers.TextReader.__cinit__\u001b[0;34m()\u001b[0m\n",
      "File \u001b[0;32m~/.local/lib/python3.8/site-packages/pandas/_libs/parsers.pyx:642\u001b[0m, in \u001b[0;36mpandas._libs.parsers.TextReader._get_header\u001b[0;34m()\u001b[0m\n",
      "File \u001b[0;32m~/.local/lib/python3.8/site-packages/pandas/_libs/parsers.pyx:843\u001b[0m, in \u001b[0;36mpandas._libs.parsers.TextReader._tokenize_rows\u001b[0;34m()\u001b[0m\n",
      "File \u001b[0;32m~/.local/lib/python3.8/site-packages/pandas/_libs/parsers.pyx:1925\u001b[0m, in \u001b[0;36mpandas._libs.parsers.raise_parser_error\u001b[0;34m()\u001b[0m\n",
      "\u001b[0;31mParserError\u001b[0m: Error tokenizing data. C error: Calling read(nbytes) on source failed. Try engine='python'."
     ]
    }
   ],
   "source": [
    "section_intensities=pd.DataFrame(index=range(0,800))\n",
    "for section in main: \n",
    "    clear_output(wait=True)\n",
    "    core=U1474+section+'/XRF data/'\n",
    "\n",
    "    files=listdir(core)\n",
    "    files.sort()\n",
    "    \n",
    "    dct={}\n",
    "    for file in files:\n",
    "            dct[file]=pd.read_csv(core+file,sep='\\t',index_col='Date:')\n",
    "    df=pd.concat([dct[file].iloc[30:,0].astype(int) for file in files],axis='columns')\n",
    "    df.columns=list(dct.keys())\n",
    "    df=df.sum()\n",
    "    \n",
    "    section_intensities.loc[:len(df)-1,section]=df.values\n",
    "    print(section)"
   ]
  },
  {
   "cell_type": "code",
   "execution_count": null,
   "metadata": {},
   "outputs": [],
   "source": [
    "fig,ax=plt.subplots(figsize=(16,10))\n",
    "for col in section_intensities.columns:\n",
    "    section_intensities[col].plot(ax=ax)\n",
    "ax.set_ylim(0,6e5)\n",
    "ax.set_xlabel('Offset in Core (mm)')\n",
    "ax.set_ylabel('Total Signal (cts)')"
   ]
  },
  {
   "cell_type": "markdown",
   "metadata": {},
   "source": [
    "### Pre-Process Non-Problem Sections"
   ]
  },
  {
   "cell_type": "code",
   "execution_count": 9,
   "metadata": {},
   "outputs": [
    {
     "name": "stdout",
     "output_type": "stream",
     "text": [
      "000_U1474F_1H1\n"
     ]
    }
   ],
   "source": [
    "for section in main[:1]: \n",
    "    clear_output(wait=True)\n",
    "    core=U1474+section+'/XRF data/'\n",
    "\n",
    "    files=listdir(core)\n",
    "    files.sort()\n",
    "\n",
    "    dct={}\n",
    "    for file in files:\n",
    "            dct[file]=pd.read_csv(core+file,sep='\\t',index_col='Date:')\n",
    "    df=pd.concat([dct[file].iloc[30:,0].astype(int) for file in files],axis='columns')\n",
    "    df.columns=list(dct.keys())\n",
    "\n",
    "    cleaned=df.loc[:,(df.sum()>100000)&(df.sum()<600000)]\n",
    "\n",
    "    sumspectra=cleaned.sum(axis=1)\n",
    "    ss_product=dct['L000000.spe']\n",
    "    ss_product.iloc[30:,0]=sumspectra\n",
    "\n",
    "    ss_path='/Users/danielbabin/GitHub/U1474_XRF_Data_Report/Data/EXP361-U1474/'+section\n",
    "    ss_product.to_csv(ss_path+'/sumspectra.spe',sep='\\t')\n",
    "\n",
    "    run_summed=cleaned.rolling(10,center=True,axis=1).sum()\n",
    "\n",
    "    sum_selected=run_summed.iloc[:,5:-5:10].copy()\n",
    "    colnames=run_summed.iloc[:,:-10:10].columns\n",
    "    for i,col in enumerate(sum_selected.columns):\n",
    "        sum_selected.rename(columns={col:colnames[i]},inplace=True)\n",
    "    sum_selected_cols=sum_selected.columns\n",
    "\n",
    "    product_dict={}\n",
    "    summed_product_dict={}\n",
    "    for i in cleaned.columns.to_list():\n",
    "        if i in sum_selected_cols:        \n",
    "            summed_product_dict[i]=dct[i]\n",
    "            summed_product_dict[i].iloc[30:,0]=sum_selected[i]\n",
    "            product_dict[i]=dct[i]\n",
    "            product_dict[i].iloc[30:,0]=cleaned[i]\n",
    "        else:\n",
    "            product_dict[i]=dct[i]\n",
    "            product_dict[i].iloc[30:,0]=cleaned[i]\n",
    "\n",
    "    for key in product_dict:\n",
    "        if key in sum_selected_cols:\n",
    "            summed_product_dict[key].to_csv(summed_results_path+section+'-'+key,sep='\\t')\n",
    "            product_dict[key].to_csv(all_results_path+section+'-'+key,sep='\\t')\n",
    "        else:\n",
    "            product_dict[key].to_csv(all_results_path+section+'-'+key,sep='\\t')\n",
    "    print(section)"
   ]
  },
  {
   "cell_type": "code",
   "execution_count": 56,
   "metadata": {},
   "outputs": [
    {
     "data": {
      "image/png": "[encoded data removed]",
      "text/plain": [
       "<Figure size 576x360 with 1 Axes>"
      ]
     },
     "metadata": {
      "needs_background": "light"
     },
     "output_type": "display_data"
    }
   ],
   "source": [
    "fig,ax=plt.subplots(figsize=(8,5))\n",
    "cleaned.iloc[:,:10].plot(ax=ax,label='2 mm measurements',legend=False,color='k',ls=':',alpha=.2)\n",
    "run_summed.iloc[:,5].plot(ax=ax,label='2 cm integrated signal',color='k')\n",
    "ax.set_yscale('log')\n",
    "ax.set_xlim(30,1020)\n",
    "ax.set_ylim(3,1e6)\n",
    "ax.set_ylabel('Intensity (counts per second)')\n",
    "ax.set_xlabel('Energy (KeV)')\n",
    "\n",
    "from matplotlib.lines import Line2D\n",
    "custom_lines = [Line2D([0], [0], color='k', lw=2, ls='-',label='2 cm integrated signal'),\n",
    "                Line2D([0], [0], color='k', lw=2, ls=':',label='2 mm measurement')]\n",
    "ax.legend(handles=custom_lines)\n",
    "ax.set_xticklabels([])\n",
    "plt.tight_layout()\n",
    "fig.savefig('/Users/danielbabin/Downloads/'+'energy specture.png',dpi=300)"
   ]
  },
  {
   "cell_type": "markdown",
   "metadata": {},
   "source": [
    "## Make Super Sum Spectra"
   ]
  },
  {
   "cell_type": "code",
   "execution_count": 20,
   "metadata": {},
   "outputs": [],
   "source": [
    "dct={}\n",
    "for section in main: \n",
    "    file=U1474+section+'/sumspectra.spe'\n",
    "    dct[section]=pd.read_csv(file,sep='\\t',index_col='Date:')\n",
    "    \n",
    "df=pd.concat([dct[section].iloc[30:,0].astype(int) for section in main],axis='columns')\n",
    "df.columns=list(dct.keys())\n",
    "    \n",
    "dfm=df.sum(axis=1)/len(main)"
   ]
  },
  {
   "cell_type": "code",
   "execution_count": 21,
   "metadata": {},
   "outputs": [],
   "source": [
    "product=dct['000_U1474F_1H1']\n",
    "product.iloc[30:,0]=dfm\n",
    "\n",
    "results_path='/Users/danielbabin/GitHub/U1474_XRF_Data_Report/Data/EXP361-U1474/'\n",
    "product.to_csv(results_path+'meanspectra.spe',sep='\\t')"
   ]
  },
  {
   "cell_type": "markdown",
   "metadata": {},
   "source": [
    "## Process Problem Sections"
   ]
  },
  {
   "cell_type": "markdown",
   "metadata": {},
   "source": [
    "#### D4H1"
   ]
  },
  {
   "cell_type": "code",
   "execution_count": 22,
   "metadata": {},
   "outputs": [],
   "source": [
    "i=19\n",
    "section=U1474_sections[i]\n",
    "core=U1474+section+'/XRF data/'\n",
    "\n",
    "files=listdir(core)\n",
    "files.sort()\n",
    "\n",
    "dct={}\n",
    "for file in files:\n",
    "        dct[file]=pd.read_csv(core+file,sep='\\t',index_col='Date:')\n",
    "df=pd.concat([dct[file].iloc[30:,0].astype(int) for file in files],axis='columns')\n",
    "df.columns=list(dct.keys())\n",
    "\n",
    "cleaned=df.loc[:,(df.sum()>60000)]\n",
    "cleaned=cleaned[sorted(cleaned.columns.to_list())]\n",
    "\n",
    "sumspectra=cleaned.sum(axis=1)\n",
    "ss_product=dct['L000000.spe']\n",
    "ss_product.iloc[30:,0]=sumspectra\n",
    "\n",
    "ss_path='/Users/danielbabin/GitHub/U1474_XRF_Data_Report/Data/EXP361-U1474/'+section\n",
    "ss_product.to_csv(ss_path+'/sumspectra.spe',sep='\\t')\n",
    "\n",
    "run_summed=cleaned.rolling(10,center=True,axis=1).sum()\n",
    "\n",
    "sum_selected=run_summed.iloc[:,5:-5:10].copy()\n",
    "colnames=run_summed.iloc[:,:-10:10].columns\n",
    "for i,col in enumerate(sum_selected.columns):\n",
    "    sum_selected.rename(columns={col:colnames[i]},inplace=True)\n",
    "sum_selected_cols=sum_selected.columns\n",
    "\n",
    "product_dict={}\n",
    "summed_product_dict={}\n",
    "for i in cleaned.columns.to_list():\n",
    "    if i in sum_selected_cols:        \n",
    "        summed_product_dict[i]=dct[i]\n",
    "        summed_product_dict[i].iloc[30:,0]=sum_selected[i]\n",
    "        product_dict[i]=dct[i]\n",
    "        product_dict[i].iloc[30:,0]=cleaned[i]\n",
    "    else:\n",
    "        product_dict[i]=dct[i]\n",
    "        product_dict[i].iloc[30:,0]=cleaned[i]\n",
    "\n",
    "for key in product_dict:\n",
    "    if key in sum_selected_cols:\n",
    "        summed_product_dict[key].to_csv(summed_results_path+section+'-'+key,sep='\\t')\n",
    "        product_dict[key].to_csv(all_results_path+section+'-'+key,sep='\\t')\n",
    "    else:\n",
    "        product_dict[key].to_csv(all_results_path+section+'-'+key,sep='\\t')"
   ]
  },
  {
   "cell_type": "markdown",
   "metadata": {},
   "source": [
    "#### D8H3"
   ]
  },
  {
   "cell_type": "code",
   "execution_count": 23,
   "metadata": {},
   "outputs": [],
   "source": [
    "i=55\n",
    "section=U1474_sections[i]\n",
    "core=U1474+section+'/XRF data/'\n",
    "\n",
    "files=listdir(core)\n",
    "files.sort()\n",
    "\n",
    "dct={}\n",
    "for file in files:\n",
    "        dct[file]=pd.read_csv(core+file,sep='\\t',index_col='Date:')\n",
    "df=pd.concat([dct[file].iloc[30:,0].astype(int) for file in files],axis='columns')\n",
    "df.columns=list(dct.keys())\n",
    "\n",
    "cleaned=df.loc[:,(df.sum()>230000)]\n",
    "\n",
    "sumspectra=cleaned.sum(axis=1)\n",
    "ss_product=dct['L000000.spe']\n",
    "ss_product.iloc[30:,0]=sumspectra\n",
    "\n",
    "ss_path='/Users/danielbabin/GitHub/U1474_XRF_Data_Report/Data/EXP361-U1474/'+section\n",
    "ss_product.to_csv(ss_path+'/sumspectra.spe',sep='\\t')\n",
    "\n",
    "run_summed=cleaned.rolling(10,center=True,axis=1).sum()\n",
    "\n",
    "sum_selected=run_summed.iloc[:,5:-5:10].copy()\n",
    "colnames=run_summed.iloc[:,:-10:10].columns\n",
    "for i,col in enumerate(sum_selected.columns):\n",
    "    sum_selected.rename(columns={col:colnames[i]},inplace=True)\n",
    "sum_selected_cols=sum_selected.columns\n",
    "\n",
    "product_dict={}\n",
    "summed_product_dict={}\n",
    "for i in cleaned.columns.to_list():\n",
    "    if i in sum_selected_cols:        \n",
    "        summed_product_dict[i]=dct[i]\n",
    "        summed_product_dict[i].iloc[30:,0]=sum_selected[i]\n",
    "        product_dict[i]=dct[i]\n",
    "        product_dict[i].iloc[30:,0]=cleaned[i]\n",
    "    else:\n",
    "        product_dict[i]=dct[i]\n",
    "        product_dict[i].iloc[30:,0]=cleaned[i]\n",
    "\n",
    "for key in product_dict:\n",
    "    if key in sum_selected_cols:\n",
    "        summed_product_dict[key].to_csv(summed_results_path+section+'-'+key,sep='\\t')\n",
    "        product_dict[key].to_csv(all_results_path+section+'-'+key,sep='\\t')\n",
    "    else:\n",
    "        product_dict[key].to_csv(all_results_path+section+'-'+key,sep='\\t')"
   ]
  },
  {
   "cell_type": "markdown",
   "metadata": {},
   "source": [
    "#### D11H4"
   ]
  },
  {
   "cell_type": "code",
   "execution_count": 24,
   "metadata": {},
   "outputs": [],
   "source": [
    "i=83\n",
    "section=U1474_sections[i]\n",
    "core=U1474+section+'/XRF data/'\n",
    "\n",
    "files=listdir(core)\n",
    "files.sort()\n",
    "\n",
    "dct={}\n",
    "for file in files:\n",
    "        dct[file]=pd.read_csv(core+file,sep='\\t',index_col='Date:')\n",
    "df=pd.concat([dct[file].iloc[30:,0].astype(int) for file in files],axis='columns')\n",
    "df.columns=list(dct.keys())\n",
    "\n",
    "cleaned=df.loc[:,(df.sum()>270000)]\n",
    "\n",
    "sumspectra=cleaned.sum(axis=1)\n",
    "ss_product=dct['L000000.spe']\n",
    "ss_product.iloc[30:,0]=sumspectra\n",
    "\n",
    "ss_path='/Users/danielbabin/GitHub/U1474_XRF_Data_Report/Data/EXP361-U1474/'+section\n",
    "ss_product.to_csv(ss_path+'/sumspectra.spe',sep='\\t')\n",
    "\n",
    "run_summed=cleaned.rolling(10,center=True,axis=1).sum()\n",
    "\n",
    "sum_selected=run_summed.iloc[:,5:-5:10].copy()\n",
    "colnames=run_summed.iloc[:,:-10:10].columns\n",
    "for i,col in enumerate(sum_selected.columns):\n",
    "    sum_selected.rename(columns={col:colnames[i]},inplace=True)\n",
    "sum_selected_cols=sum_selected.columns\n",
    "\n",
    "product_dict={}\n",
    "summed_product_dict={}\n",
    "for i in cleaned.columns.to_list():\n",
    "    if i in sum_selected_cols:        \n",
    "        summed_product_dict[i]=dct[i]\n",
    "        summed_product_dict[i].iloc[30:,0]=sum_selected[i]\n",
    "        product_dict[i]=dct[i]\n",
    "        product_dict[i].iloc[30:,0]=cleaned[i]\n",
    "    else:\n",
    "        product_dict[i]=dct[i]\n",
    "        product_dict[i].iloc[30:,0]=cleaned[i]\n",
    "\n",
    "for key in product_dict:\n",
    "    if key in sum_selected_cols:\n",
    "        summed_product_dict[key].to_csv(summed_results_path+section+'-'+key,sep='\\t')\n",
    "        product_dict[key].to_csv(all_results_path+section+'-'+key,sep='\\t')\n",
    "    else:\n",
    "        product_dict[key].to_csv(all_results_path+section+'-'+key,sep='\\t')"
   ]
  },
  {
   "cell_type": "markdown",
   "metadata": {},
   "source": [
    "#### D11H5"
   ]
  },
  {
   "cell_type": "code",
   "execution_count": 25,
   "metadata": {},
   "outputs": [],
   "source": [
    "i=84\n",
    "section=U1474_sections[i]\n",
    "core=U1474+section+'/XRF data/'\n",
    "\n",
    "files=listdir(core)\n",
    "files.sort()\n",
    "\n",
    "dct={}\n",
    "for file in files:\n",
    "        dct[file]=pd.read_csv(core+file,sep='\\t',index_col='Date:')\n",
    "df=pd.concat([dct[file].iloc[30:,0].astype(int) for file in files],axis='columns')\n",
    "df.columns=list(dct.keys())\n",
    "\n",
    "cleaned=df.loc[:,(df.sum()>120000)]\n",
    "\n",
    "sumspectra=cleaned.sum(axis=1)\n",
    "ss_product=dct['L000000.spe']\n",
    "ss_product.iloc[30:,0]=sumspectra\n",
    "\n",
    "ss_path='/Users/danielbabin/GitHub/U1474_XRF_Data_Report/Data/EXP361-U1474/'+section\n",
    "ss_product.to_csv(ss_path+'/sumspectra.spe',sep='\\t')\n",
    "\n",
    "run_summed=cleaned.rolling(10,center=True,axis=1).sum()\n",
    "\n",
    "sum_selected=run_summed.iloc[:,5:-5:10].copy()\n",
    "colnames=run_summed.iloc[:,:-10:10].columns\n",
    "for i,col in enumerate(sum_selected.columns):\n",
    "    sum_selected.rename(columns={col:colnames[i]},inplace=True)\n",
    "sum_selected_cols=sum_selected.columns\n",
    "\n",
    "product_dict={}\n",
    "summed_product_dict={}\n",
    "for i in cleaned.columns.to_list():\n",
    "    if i in sum_selected_cols:        \n",
    "        summed_product_dict[i]=dct[i]\n",
    "        summed_product_dict[i].iloc[30:,0]=sum_selected[i]\n",
    "        product_dict[i]=dct[i]\n",
    "        product_dict[i].iloc[30:,0]=cleaned[i]\n",
    "    else:\n",
    "        product_dict[i]=dct[i]\n",
    "        product_dict[i].iloc[30:,0]=cleaned[i]\n",
    "\n",
    "for key in product_dict:\n",
    "    if key in sum_selected_cols:\n",
    "        summed_product_dict[key].to_csv(summed_results_path+section+'-'+key,sep='\\t')\n",
    "        product_dict[key].to_csv(all_results_path+section+'-'+key,sep='\\t')\n",
    "    else:\n",
    "        product_dict[key].to_csv(all_results_path+section+'-'+key,sep='\\t')"
   ]
  }
 ],
 "metadata": {
  "kernelspec": {
   "display_name": "Python 3 (ipykernel)",
   "language": "python",
   "name": "python3"
  },
  "language_info": {
   "codemirror_mode": {
    "name": "ipython",
    "version": 3
   },
   "file_extension": ".py",
   "mimetype": "text/x-python",
   "name": "python",
   "nbconvert_exporter": "python",
   "pygments_lexer": "ipython3",
   "version": "3.8.18"
  }
 },
 "nbformat": 4,
 "nbformat_minor": 4
}

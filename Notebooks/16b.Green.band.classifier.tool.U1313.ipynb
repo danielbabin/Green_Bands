{
 "cells": [
  {
   "cell_type": "markdown",
   "id": "eec989dd",
   "metadata": {},
   "source": [
    "# 16b. Green band classifier tool\n",
    "The color analysis outputs the percent of pixels at a given depth which are green. The question is: What meaning does this percent green have? Is it actually meaningful on its own? The current plan is to set a threshold for a percent green-ness that will constitute a binary positive confirmation of a green layer. "
   ]
  },
  {
   "cell_type": "markdown",
   "id": "44819460",
   "metadata": {},
   "source": [
    "## Setup\n",
    "### Import Modules"
   ]
  },
  {
   "cell_type": "code",
   "execution_count": 1,
   "id": "9bdeec98",
   "metadata": {
    "scrolled": true,
    "tags": []
   },
   "outputs": [],
   "source": [
    "import pandas as pd\n",
    "import matplotlib.pyplot as plt\n",
    "import matplotlib.gridspec as gridspec\n",
    "from matplotlib.ticker import AutoMinorLocator\n",
    "# %matplotlib inline\n",
    "from scipy import signal,interpolate,stats,linalg\n",
    "# from IPython.display import clear_output\n",
    "import time\n",
    "import numpy as np\n",
    "import seaborn as sns\n",
    "from PIL import Image\n",
    "import os\n",
    "import cv2 as cv\n",
    "import pickle\n",
    "import random"
   ]
  },
  {
   "cell_type": "markdown",
   "id": "af52faf2",
   "metadata": {},
   "source": [
    "### Set paths"
   ]
  },
  {
   "cell_type": "code",
   "execution_count": 2,
   "id": "033f49f1",
   "metadata": {
    "tags": []
   },
   "outputs": [],
   "source": [
    "data_path='/Users/danielbabin/GitHub/Green_Bands/Data/'\n",
    "table_path='/Users/danielbabin/GitHub/Green_Bands/Tables/'\n",
    "saturated_cores='/Volumes/SanDisk.Data/IODP1313CorePhotos/Saturated/'\n",
    "filtered_cores='/Volumes/SanDisk.Data/IODP1313CorePhotos/Filtered/'\n",
    "raw_cores='/Volumes/SanDisk.Data/IODP1313CorePhotos/Cropped/'\n",
    "figure_path='/Users/danielbabin/GitHub/Green_Bands/Figures/Main/'\n",
    "sup_figure_path='/Users/danielbabin/GitHub/Green_Bands/Figures/Supplementary/'\n",
    "checkpoints_path='/Users/danielbabin/GitHub/Green_Bands/Data/Checkpoints/'"
   ]
  },
  {
   "cell_type": "markdown",
   "id": "454f066f",
   "metadata": {},
   "source": [
    "### Import Splice info"
   ]
  },
  {
   "cell_type": "code",
   "execution_count": 3,
   "id": "4c0a335f",
   "metadata": {
    "tags": []
   },
   "outputs": [],
   "source": [
    "splice=pd.read_csv(data_path+'SpliceTables/cleanSpliceConstruction1313.csv')\n",
    "splice['CoreLabel']=(splice['Site'].map(str).str.strip()+splice['Hole'].str.strip()+'_'+splice['Core'].map(str))\n",
    "\n",
    "section_list=pd.read_csv(data_path+'SectionSummaries/spliceSections1313.csv')\n",
    "section_list['SectionLabel']=(section_list['Site'].map(str)+section_list['Hole']+'_'+\n",
    "                              section_list['Core'].map(str)+section_list['Type']+\n",
    "                              section_list['Section'].map(str))\n",
    "section_list=section_list.set_index('SectionLabel',drop=False)"
   ]
  },
  {
   "cell_type": "code",
   "execution_count": 13,
   "id": "98a20923",
   "metadata": {
    "tags": []
   },
   "outputs": [],
   "source": [
    "sections=section_list[(section_list['Top(mcd)']<56)&\n",
    "                      (section_list['Section']!='CC')]['SectionLabel'].reset_index(drop=True)\n",
    "sections=section_list.loc[sections]"
   ]
  },
  {
   "cell_type": "markdown",
   "id": "7f292cba",
   "metadata": {},
   "source": [
    "### Import Green"
   ]
  },
  {
   "cell_type": "code",
   "execution_count": 14,
   "id": "a1b1e54d",
   "metadata": {
    "tags": []
   },
   "outputs": [],
   "source": [
    "green=pd.read_csv(table_path+'Supplementary Table 5A - U1474 green intensity splice.csv',\n",
    "                  index_col='CCSF Depth (m)')\n",
    "green['SectionLabel']=(green['Site'].map(str)+green['Hole']+'_'+\n",
    "                       green['Core'].map(str)+green['Type']+\n",
    "                       green['Section'].map(str))\n",
    "green=green[green.index.duplicated()==False]\n",
    "green=green.sort_index()\n",
    "green_channel_cols=green.columns[7:-1]\n",
    "green.loc[green['Green%']<=1,'Green%']=0"
   ]
  },
  {
   "cell_type": "markdown",
   "id": "b16976c6",
   "metadata": {},
   "source": [
    "## Core Photos"
   ]
  },
  {
   "cell_type": "code",
   "execution_count": 15,
   "id": "9c3cb951",
   "metadata": {
    "tags": []
   },
   "outputs": [],
   "source": [
    "greens=pd.read_csv(checkpoints_path+'green.peak.labeling.U1313.csv',index_col='Top Depth CCSF (m)')"
   ]
  },
  {
   "cell_type": "markdown",
   "id": "98a88637",
   "metadata": {},
   "source": [
    "### Define Threshold-Picking Function"
   ]
  },
  {
   "cell_type": "code",
   "execution_count": 16,
   "id": "feedb9d9",
   "metadata": {
    "tags": []
   },
   "outputs": [],
   "source": [
    "import warnings\n",
    "warnings.filterwarnings(\"ignore\", category=UserWarning)"
   ]
  },
  {
   "cell_type": "code",
   "execution_count": 17,
   "id": "dfdc0fd3",
   "metadata": {
    "tags": []
   },
   "outputs": [],
   "source": [
    "def check(n):\n",
    "    greens=pd.read_csv(checkpoints_path+'green.peak.labeling.U1313.csv',index_col='Top Depth CCSF (m)')\n",
    "    sample=greens.iloc[n]\n",
    "    top_depth=sample.name\n",
    "    bottom_depth=sample['Bottom Depth CCSF (m)']\n",
    "    top_offset=sample['Top Offset (cm)']/100\n",
    "    bottom_offset=sample['Bottom Offset (cm)']/100\n",
    "    sect=sample['SectionLabel']\n",
    "    hole=sect[4]\n",
    "    number=1\n",
    "    buffer=.2\n",
    "    greendata=green[green['SectionLabel']==sect]\n",
    "    greendata=greendata.loc[top_depth-buffer:bottom_depth+buffer]\n",
    "\n",
    "    fig=plt.figure(figsize=(14,7))\n",
    "    gs = gridspec.GridSpec(8, 1, figure=fig,hspace=.02,left=.05,right=.95,top=.95)\n",
    "\n",
    "    c1=fig.add_subplot(gs[:3,:])\n",
    "    c2=fig.add_subplot(gs[3:6,:])\n",
    "    ax1=fig.add_subplot(gs[6:8,:])\n",
    "\n",
    "    c1.set_title('Hole '+sect[4]+' Core '+sect[6:],\n",
    "                  fontweight='bold',fontsize=20,pad=0,loc='left')\n",
    "    c1.annotate('Number '+str(number+1)+'/213',xy=(1,1),xycoords='axes fraction',\n",
    "                fontweight='bold',fontsize=20,horizontalalignment='right',verticalalignment='bottom')\n",
    "    \n",
    "    sect_length=(section_list.loc[sect,'Bottom(mcd)']-\n",
    "                  section_list.loc[sect,'Top(mcd)'])\n",
    "    \n",
    "    raw_img=Image.open(raw_cores+sections.loc[sect,'Filename'])\n",
    "    filt_img=Image.open(filtered_cores+sections.loc[sect,'Filename'])\n",
    "    \n",
    "    h=raw_img.size[1]\n",
    "    w=raw_img.size[0]\n",
    "    aspect=(w/h)\n",
    "    naspest=((16.6/aspect)-1)/2\n",
    "    \n",
    "    \n",
    "    pxl_m=w/sect_length\n",
    "    extentlist=[top_depth-buffer,\n",
    "                bottom_depth+buffer,\n",
    "                0,sect_length/aspect]\n",
    "    sample_top_pxl=int(top_offset*pxl_m)\n",
    "    sample_bottom_pxl=int(bottom_offset*pxl_m)\n",
    "    pxl_offset=int(buffer*pxl_m)\n",
    "    \n",
    "    raw=raw_img.crop((sample_top_pxl-pxl_offset,0,sample_bottom_pxl+pxl_offset,h))\n",
    "    filt=filt_img.crop((sample_top_pxl-pxl_offset,0, sample_bottom_pxl+pxl_offset,h))\n",
    "    \n",
    "    c1.imshow(raw,extent=extentlist)\n",
    "    c1.axis('off')\n",
    "    \n",
    "    c2.imshow(filt,extent=extentlist)\n",
    "    c2.axis('off')\n",
    "    \n",
    "#     data.plot(ax=ax1,marker='o',ms=3,c=colors[-3])\n",
    "    greendata['Green%'].plot(kind='area',ax=ax1,color='tab:green')\n",
    "#     ax1.set_ylim(0,100)\n",
    "    \n",
    "    cols=['% Pixels']\n",
    "    for i,a in enumerate([ax1]):\n",
    "        a.set_ylabel(cols[i])\n",
    "    for i,a in enumerate([c1,c2,ax1]):\n",
    "        a.set_xlim(top_depth-buffer,bottom_depth+buffer)\n",
    "\n",
    "    ## Annotate\n",
    "    ax1.set_xlabel('Depth (m CCSF)');\n",
    "    box=dict(boxstyle=\"round\",ec=(0,0,0),fc=(1,1,1),clip_on=True)\n",
    "    for ax in [ax1]:\n",
    "        ax.axvline(top_depth,color='k')\n",
    "        ax.axvline(bottom_depth,color='k')\n",
    "        ax1.annotate(n,xy=(bottom_depth+.015,greendata['Green%'].max()*.9),ha='left',size=16,bbox=box)\n",
    "    \n",
    "    ## Question\n",
    "    print('Is ',n,'\\n',\n",
    "          '(1) a diffuse, mottled green layer?\\t',\n",
    "          '(2) a diffuse, continuous green layer?\\n',\n",
    "          '(3) a crusty, mottled green layer?\\t',\n",
    "          '(4) a crusty, continuous green layer?\\n',\n",
    "          '(5) flag algorithm problem\\t\\t',\n",
    "          '(0) not a green layer')\n",
    "    plt.show(block=False)\n",
    "    gTF=int(input())\n",
    "    plt.close()\n",
    "    greens.loc[top_depth,'Label']=gTF\n",
    "    greens.to_csv(checkpoints_path+'green.peak.labeling.U1313.csv')"
   ]
  },
  {
   "cell_type": "markdown",
   "id": "8fad98ff",
   "metadata": {},
   "source": [
    "### Check"
   ]
  },
  {
   "cell_type": "code",
   "execution_count": 19,
   "id": "ba1f4fb6",
   "metadata": {
    "tags": []
   },
   "outputs": [],
   "source": [
    "print('Do you need to classify green bands?: (y/n)')\n",
    "classify=str(input())\n",
    "if classify=='y':\n",
    "    print('Enter start n: ')\n",
    "    start_n=int(input())\n",
    "    for i in range(start_n,len(greens)):\n",
    "        check(i)"
   ]
  },
  {
   "cell_type": "code",
   "execution_count": null,
   "id": "faaeda10",
   "metadata": {},
   "outputs": [],
   "source": [
    "greens_labelled=pd.read_csv(table_path+'green.peak.labeling.U1313.csv')\n",
    "# greens_labelled.to_csv(table_path+'Supplementary Table 6B - U1313 green bands.csv',index=False)"
   ]
  }
 ],
 "metadata": {
  "kernelspec": {
   "display_name": "Python 3 (ipykernel)",
   "language": "python",
   "name": "python3"
  },
  "language_info": {
   "codemirror_mode": {
    "name": "ipython",
    "version": 3
   },
   "file_extension": ".py",
   "mimetype": "text/x-python",
   "name": "python",
   "nbconvert_exporter": "python",
   "pygments_lexer": "ipython3",
   "version": "3.8.18"
  }
 },
 "nbformat": 4,
 "nbformat_minor": 5
}

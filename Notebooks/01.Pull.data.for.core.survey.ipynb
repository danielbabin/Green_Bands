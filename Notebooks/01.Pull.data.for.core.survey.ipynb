{
 "cells": [
  {
   "cell_type": "markdown",
   "id": "17709782-de29-4ef0-8837-8abb31309ee6",
   "metadata": {},
   "source": [
    "# 01. Pull data for core survey\n",
    "This notebook contains code that accesses Texas A&M's IODP database and pulls metadata, chemical data, and core photos for all existing DSDP, ODP, and IODP cores that come in contact with the sediment water interface. DSDP, ODP, and IODP are three different iterations of a very similar program for international ocean drilling, but the metadata for each era of the international ocean drilling program, so each case must be handled indepenedently. <br><br>\n",
    "This data will be used to identify which sites have banding at active diagenetic fronts."
   ]
  },
  {
   "cell_type": "markdown",
   "id": "c6b8208c-7aba-451d-9d54-c331ec0c76b6",
   "metadata": {},
   "source": [
    "## Setup"
   ]
  },
  {
   "cell_type": "markdown",
   "id": "802fa056-233c-4757-bf66-2a2507a43281",
   "metadata": {},
   "source": [
    "### Import Modules"
   ]
  },
  {
   "cell_type": "code",
   "execution_count": 55,
   "id": "096a8b62-e68b-48ab-a58e-b5910168ded8",
   "metadata": {
    "tags": []
   },
   "outputs": [],
   "source": [
    "import pandas as pd\n",
    "import requests\n",
    "from IPython.display import clear_output\n",
    "import time\n",
    "import cv2 as cv\n",
    "import os"
   ]
  },
  {
   "cell_type": "markdown",
   "id": "572cb4c4-8cef-4c3b-9166-4e4c23124f51",
   "metadata": {},
   "source": [
    "### Set Paths"
   ]
  },
  {
   "cell_type": "code",
   "execution_count": 59,
   "id": "1d281fce-abf8-4efb-969f-0fec004fa124",
   "metadata": {
    "tags": []
   },
   "outputs": [],
   "source": [
    "data_path='/Users/danielbabin/GitHub/Green_Bands/Data/'\n",
    "survey_data='/Users/danielbabin/GitHub/Green_Bands/Data/Survey/Photos/PDFs/'"
   ]
  },
  {
   "cell_type": "markdown",
   "id": "3ca769b3-85af-41e9-bcfd-911b949b6f68",
   "metadata": {},
   "source": [
    "## Pull data"
   ]
  },
  {
   "cell_type": "markdown",
   "id": "47460431-38b6-44c8-88bb-b31f53c3b676",
   "metadata": {},
   "source": [
    "### Load sites metadata\n",
    "This data was sourced from \"Drilled Holes\" at https://www.iodp.org/resources/maps-and-kml-tools"
   ]
  },
  {
   "cell_type": "code",
   "execution_count": 5,
   "id": "d93313bd-5d85-4a4f-83c1-374edc8a8675",
   "metadata": {
    "tags": []
   },
   "outputs": [],
   "source": [
    "sites=pd.read_csv(survey_data+'all.DSDP.ODP.IODP.sites.csv')\n",
    "sites['era']=None\n",
    "sites.loc[sites['leg']<=96,'era']='DSDP'\n",
    "sites.loc[sites['leg'].between(99,210),'era']='ODP'\n",
    "id_beginning_IODP=sites.loc[sites['expedition']=='301'].index[0]\n",
    "id_end_IODP=sites.loc[sites['expedition']=='312'].index[-1]\n",
    "sites.loc[id_beginning_IODP:id_end_IODP,'era']='Early IODP'\n",
    "sites.loc[id_end_IODP+1:3964,'era']='Modern IODP'"
   ]
  },
  {
   "cell_type": "markdown",
   "id": "86d242ea-d394-406c-8f88-fd934b4b7763",
   "metadata": {},
   "source": [
    "### DSDP era\n",
    "#### Site Summaries"
   ]
  },
  {
   "cell_type": "code",
   "execution_count": 6,
   "id": "0c63f56c-2859-42a2-893d-c91908b9faba",
   "metadata": {
    "tags": []
   },
   "outputs": [
    {
     "name": "stdout",
     "output_type": "stream",
     "text": [
      "1057 / 1058\n"
     ]
    }
   ],
   "source": [
    "dsdp_site_summaries_list=[]\n",
    "for i in sites.loc[sites['era']=='DSDP'].index:\n",
    "    clear_output(wait=True)\n",
    "    leg=str(sites.loc[i,'leg'].astype(int))\n",
    "    site=sites.loc[i,'site']\n",
    "    url='https://www.ngdc.noaa.gov/mgg/geology/dsdp/data/'+leg+'/'+site+'/sitesum.txt'\n",
    "    try:\n",
    "        df=pd.read_csv(url, sep='\\t')\n",
    "        dsdp_site_summaries_list.append(df)\n",
    "    except:\n",
    "        print(f\"No table found for URL: {url}\")\n",
    "    print(i,'/',len(sites.loc[sites['era']=='DSDP']))\n",
    "dsdp_site_summaries = pd.concat(dsdp_site_summaries_list, ignore_index=True)"
   ]
  },
  {
   "cell_type": "code",
   "execution_count": 8,
   "id": "cfeab18d-8e9c-46b5-b16f-bd07ba4013b0",
   "metadata": {
    "tags": []
   },
   "outputs": [],
   "source": [
    "dsdp_site_summaries.to_csv(survey_data+'dsdp_site_summaries.csv',index=False)"
   ]
  },
  {
   "cell_type": "markdown",
   "id": "c3f123db-ca1c-47f7-a876-676c56d06ee3",
   "metadata": {},
   "source": [
    "#### Age constraints\n",
    "To get sedimentation rate"
   ]
  },
  {
   "cell_type": "code",
   "execution_count": 11,
   "id": "4f8839ec-26c5-4660-ab7d-24fbfd184397",
   "metadata": {
    "tags": []
   },
   "outputs": [
    {
     "name": "stdout",
     "output_type": "stream",
     "text": [
      "1057 / 1058\n"
     ]
    }
   ],
   "source": [
    "dsdp_age_list=[]\n",
    "for i in sites.loc[sites['era']=='DSDP'].index:\n",
    "    clear_output(wait=True)\n",
    "    leg=str(sites.loc[i,'leg'].astype(int))\n",
    "    site=sites.loc[i,'site']\n",
    "    url='https://www.ngdc.noaa.gov/mgg/geology/dsdp/data/'+leg+'/'+site+'/ageprof.txt'\n",
    "    try:\n",
    "        df=pd.read_csv(url, sep='\\t')\n",
    "        dsdp_age_list.append(df)\n",
    "    except:\n",
    "        print(f\"No table found for URL: {url}\")\n",
    "    print(i,'/',len(sites.loc[sites['era']=='DSDP']))\n",
    "dsdp_age = pd.concat(dsdp_age_list, ignore_index=True)"
   ]
  },
  {
   "cell_type": "code",
   "execution_count": 12,
   "id": "0c516323-0d2e-41f6-9953-64ea99189216",
   "metadata": {
    "tags": []
   },
   "outputs": [],
   "source": [
    "dsdp_age.to_csv(survey_data+'dsdp_age.csv',index=False)"
   ]
  },
  {
   "cell_type": "markdown",
   "id": "a6be1384-159a-451f-b81f-9ebcb997eed0",
   "metadata": {},
   "source": [
    "#### Core Recovery"
   ]
  },
  {
   "cell_type": "code",
   "execution_count": 14,
   "id": "af90de7b-cdc3-40b2-a20f-0f113b62aa74",
   "metadata": {
    "tags": []
   },
   "outputs": [
    {
     "name": "stdout",
     "output_type": "stream",
     "text": [
      "1057 / 1058\n"
     ]
    }
   ],
   "source": [
    "dsdp_core_recovery_list=[]\n",
    "for i in sites.loc[sites['era']=='DSDP'].index:\n",
    "    clear_output(wait=True)\n",
    "    leg=str(sites.loc[i,'leg'].astype(int))\n",
    "    site=sites.loc[i,'site']\n",
    "    url='https://www.ngdc.noaa.gov/mgg/geology/dsdp/data/'+leg+'/'+site+'/coredep.txt'\n",
    "    try:\n",
    "        df=pd.read_csv(url, sep='\\t')\n",
    "        dsdp_core_recovery_list.append(df)\n",
    "    except:\n",
    "        print(f\"No table found for URL: {url}\")\n",
    "    print(i,'/',len(sites.loc[sites['era']=='DSDP']))\n",
    "dsdp_core_recovery = pd.concat(dsdp_carbonate_list, ignore_index=True)"
   ]
  },
  {
   "cell_type": "code",
   "execution_count": 15,
   "id": "80aa929d-cbef-41ec-be40-e503241f1e7d",
   "metadata": {
    "tags": []
   },
   "outputs": [],
   "source": [
    "dsdp_core_recovery.to_csv(survey_data+'dsdp_core_recovery.csv',index=False)"
   ]
  },
  {
   "cell_type": "markdown",
   "id": "033100a4-7ece-4e0c-b7b6-d7a2188dfd57",
   "metadata": {},
   "source": [
    "#### Core Photos\n",
    "##### Download Core Photo metadata"
   ]
  },
  {
   "cell_type": "code",
   "execution_count": 16,
   "id": "fc729201-6045-4fed-84ec-c6d608d3d63b",
   "metadata": {
    "tags": []
   },
   "outputs": [],
   "source": [
    "dsdp_legs_sites=dsdp_core_recovery[['leg','site']].drop_duplicates()"
   ]
  },
  {
   "cell_type": "code",
   "execution_count": 17,
   "id": "4af86b55-8339-4935-8e70-29f440e07d01",
   "metadata": {
    "tags": []
   },
   "outputs": [
    {
     "name": "stdout",
     "output_type": "stream",
     "text": [
      "529 / 530\n"
     ]
    }
   ],
   "source": [
    "dsdp_core_photo_links_list=[]\n",
    "for i,idx in enumerate(dsdp_legs_sites.index):\n",
    "    clear_output(wait=True)\n",
    "    leg=str(dsdp_legs_sites.loc[idx,'leg'])\n",
    "    site=str(dsdp_legs_sites.loc[idx,'site'])\n",
    "    url='https://web.iodp.tamu.edu/janusweb/imaging/photo.cgi?leg='+leg+'&site='+site\n",
    "    try:\n",
    "        df=pd.read_csv(url, sep='\\t',header=18).iloc[:-18]\n",
    "        dsdp_core_photo_links_list.append(df)\n",
    "    except:\n",
    "        print(f\"No table found for URL: {url}\")\n",
    "    print(i,'/',len(dsdp_legs_sites))\n",
    "dsdp_core_photo_links = pd.concat(dsdp_core_photo_links_list, ignore_index=True)\n",
    "dsdp_core_photo_links['Image Link']=dsdp_core_photo_links['Image Link'].str[9:]\n",
    "dsdp_core_photo_links['Image Link']=dsdp_core_photo_links['Image Link'].str.split('>',expand=True)[0].str[:-1]\n",
    "dsdp_core_photo_links['Filename']=dsdp_core_photo_links['Image Link'].str.split('/',expand=True).iloc[:,-1]"
   ]
  },
  {
   "cell_type": "code",
   "execution_count": 18,
   "id": "b4550aad-ebce-4322-9b36-8d4b9fd3dd2d",
   "metadata": {
    "tags": []
   },
   "outputs": [],
   "source": [
    "dsdp_core_photo_links.to_csv(survey_data+'dsdp_core_photo_links.csv',index=False)"
   ]
  },
  {
   "cell_type": "code",
   "execution_count": 19,
   "id": "8d980538-62d0-46cb-9f6f-9f1dbb1ac517",
   "metadata": {
    "tags": []
   },
   "outputs": [],
   "source": [
    "dsdp_core_tops=dsdp_core_photo_links[dsdp_core_photo_links['Depth (mbsf)']==0].copy()\n",
    "dsdp_core_tops.to_csv(survey_data+'dsdp_core_tops.csv',index=False)"
   ]
  },
  {
   "cell_type": "markdown",
   "id": "f24452b3-a437-4298-bbc1-297f18f9ad1c",
   "metadata": {},
   "source": [
    "##### Download Core Photos"
   ]
  },
  {
   "cell_type": "code",
   "execution_count": 24,
   "id": "740318a5-f48b-4f60-bee8-c197cced3532",
   "metadata": {
    "tags": []
   },
   "outputs": [],
   "source": [
    "dsdp_path='/Users/danielbabin/GitHub/Green_Bands/Data/Survey/Photos/PDFs/DSDP/'"
   ]
  },
  {
   "cell_type": "code",
   "execution_count": 25,
   "id": "99fe7113-2d4b-46c2-9da9-ef6c72154635",
   "metadata": {
    "tags": []
   },
   "outputs": [
    {
     "name": "stdout",
     "output_type": "stream",
     "text": [
      "488 / 489\n"
     ]
    }
   ],
   "source": [
    "for i,idx in enumerate(dsdp_core_tops.index):\n",
    "    clear_output(wait=True)\n",
    "    url=dsdp_core_tops.loc[idx,'Image Link']\n",
    "    filename=dsdp_core_tops.loc[idx,'Filename']\n",
    "    response = requests.get(url)\n",
    "    with open(dsdp_path+filename, 'wb') as file:\n",
    "        file.write(response.content)\n",
    "    print(i,'/',len(dsdp_core_tops))"
   ]
  },
  {
   "cell_type": "markdown",
   "id": "fe3ad7e5-b09e-42d8-ab6b-6d698fc446b8",
   "metadata": {},
   "source": [
    "### ODP era"
   ]
  },
  {
   "cell_type": "code",
   "execution_count": 26,
   "id": "b1cc5b9b-2f1d-4615-afa7-b3d2709272f9",
   "metadata": {
    "tags": []
   },
   "outputs": [],
   "source": [
    "odp_era_sites=sites.loc[sites['era']=='ODP'].copy()\n",
    "odp_era_sites['leg']=odp_era_sites['leg'].astype(int)\n",
    "odp_legs_sites=odp_era_sites[['leg','site']].drop_duplicates()"
   ]
  },
  {
   "cell_type": "markdown",
   "id": "64431384-096d-472a-a3b2-1891cd1dd14d",
   "metadata": {},
   "source": [
    "#### Site Summaries"
   ]
  },
  {
   "cell_type": "code",
   "execution_count": 27,
   "id": "11931eae-cf5b-4042-b182-c518539f0fba",
   "metadata": {
    "tags": []
   },
   "outputs": [
    {
     "name": "stdout",
     "output_type": "stream",
     "text": [
      "654 / 655\n"
     ]
    }
   ],
   "source": [
    "odp_site_summaries_list=[]\n",
    "for i,idx in enumerate(odp_legs_sites.index):\n",
    "    clear_output(wait=True)\n",
    "    leg=str(odp_legs_sites.loc[idx,'leg'])\n",
    "    site=str(odp_legs_sites.loc[idx,'site'])\n",
    "    url='https://web.iodp.tamu.edu/janusweb/coring_summaries/sitesumm.cgi?leg='+leg+'&site='+site\n",
    "    try:\n",
    "        df=pd.read_csv(url, sep='\\t',header=19).iloc[:-22]\n",
    "        odp_site_summaries_list.append(df)\n",
    "    except:\n",
    "        print(f\"No table found for URL: {url}\")\n",
    "    print(i,'/',len(odp_legs_sites))\n",
    "odp_site_summaries = pd.concat(odp_site_summaries_list, ignore_index=True)"
   ]
  },
  {
   "cell_type": "code",
   "execution_count": 28,
   "id": "b3dc7655-490f-4639-83a1-699e5810d770",
   "metadata": {
    "tags": []
   },
   "outputs": [],
   "source": [
    "odp_site_summaries.to_csv(survey_data+'odp_site_summaries.csv',index=False)"
   ]
  },
  {
   "cell_type": "markdown",
   "id": "51250ce1-465f-424b-a955-9a404692321d",
   "metadata": {},
   "source": [
    "#### Age constraints\n",
    "##### Type: Depth-Age Model"
   ]
  },
  {
   "cell_type": "code",
   "execution_count": 31,
   "id": "93d325f3-df18-4331-8264-654a50aae5b4",
   "metadata": {
    "tags": []
   },
   "outputs": [
    {
     "name": "stdout",
     "output_type": "stream",
     "text": [
      "654 / 655\n"
     ]
    }
   ],
   "source": [
    "odp_depth_age_list=[]\n",
    "for i,idx in enumerate(odp_legs_sites.index):\n",
    "    clear_output(wait=True)\n",
    "    leg=str(odp_legs_sites.loc[idx,'leg'])\n",
    "    site=str(odp_legs_sites.loc[idx,'site'])\n",
    "    url='https://web.iodp.tamu.edu/janusweb/paleo/agemodel.cgi?leg='+leg+'&site='+site\n",
    "    try:\n",
    "        df=pd.read_csv(url, sep='\\t',header=18)\n",
    "        odp_depth_age_list.append(df)\n",
    "    except:\n",
    "        print(f\"No table found for URL: {url}\")\n",
    "    print(i,'/',len(odp_legs_sites))\n",
    "odp_depth_age=pd.concat(odp_depth_age_list, ignore_index=True)\n",
    "odp_depth_age=odp_depth_age[odp_depth_age['Site'].isnull()==False].copy()"
   ]
  },
  {
   "cell_type": "code",
   "execution_count": 32,
   "id": "b7775d0c-918d-4351-9f2f-e78ee984816f",
   "metadata": {
    "tags": []
   },
   "outputs": [],
   "source": [
    "odp_depth_age.to_csv(survey_data+'odp_depth_age.csv',index=False)"
   ]
  },
  {
   "cell_type": "markdown",
   "id": "aeedc26d-182b-4a81-9171-b6ba85461442",
   "metadata": {},
   "source": [
    "##### Type: Age Profile (datum list)"
   ]
  },
  {
   "cell_type": "code",
   "execution_count": 33,
   "id": "68a18740-4e5e-46b7-affd-1fd78a3231c6",
   "metadata": {
    "tags": []
   },
   "outputs": [
    {
     "name": "stdout",
     "output_type": "stream",
     "text": [
      "654 / 655\n"
     ]
    }
   ],
   "source": [
    "odp_age_profile_list=[]\n",
    "for i,idx in enumerate(odp_legs_sites.index):\n",
    "    clear_output(wait=True)\n",
    "    leg=str(odp_legs_sites.loc[idx,'leg'])\n",
    "    site=str(odp_legs_sites.loc[idx,'site'])\n",
    "    url='https://web.iodp.tamu.edu/janusweb/paleo/ageprofile.cgi?leg='+leg+'&site='+site\n",
    "    try:\n",
    "        df=pd.read_csv(url, sep='\\t',header=18)\n",
    "        odp_age_profile_list.append(df)\n",
    "    except:\n",
    "        print(f\"No table found for URL: {url}\")\n",
    "    print(i,'/',len(odp_legs_sites))\n",
    "odp_age_profile=pd.concat(odp_age_profile_list, ignore_index=True)\n",
    "odp_age_profile=odp_age_profile[odp_age_profile['Site'].isnull()==False].copy()"
   ]
  },
  {
   "cell_type": "code",
   "execution_count": 34,
   "id": "6854b301-04c9-46a2-9c5a-4ba26f2a3bea",
   "metadata": {
    "tags": []
   },
   "outputs": [],
   "source": [
    "odp_age_profile.to_csv(survey_data+'odp_age_profile.csv',index=False)"
   ]
  },
  {
   "cell_type": "markdown",
   "id": "14743113-5a28-4a00-bac7-11e0022ead07",
   "metadata": {},
   "source": [
    "#### Core Photos\n",
    "##### Download Core Photos Metadata"
   ]
  },
  {
   "cell_type": "code",
   "execution_count": 35,
   "id": "3671317d-7288-4235-a07b-7b27df08979d",
   "metadata": {
    "tags": []
   },
   "outputs": [
    {
     "name": "stdout",
     "output_type": "stream",
     "text": [
      "654 / 655\n"
     ]
    }
   ],
   "source": [
    "odp_core_photo_links_list=[]\n",
    "for i,idx in enumerate(odp_legs_sites.index):\n",
    "    clear_output(wait=True)\n",
    "    leg=str(odp_legs_sites.loc[idx,'leg'])\n",
    "    site=str(odp_legs_sites.loc[idx,'site'])\n",
    "    url='https://web.iodp.tamu.edu/janusweb/imaging/photo.cgi?leg='+leg+'&site='+site\n",
    "    try:\n",
    "        df=pd.read_csv(url, sep='\\t',header=18)\n",
    "        odp_core_photo_links_list.append(df)\n",
    "    except:\n",
    "        print(f\"No table found for URL: {url}\")\n",
    "    print(i,'/',len(odp_legs_sites))\n",
    "odp_core_photo_links = pd.concat(odp_core_photo_links_list, ignore_index=True)\n",
    "odp_core_photo_links=odp_core_photo_links[odp_core_photo_links['Site'].isnull()==False].copy()\n",
    "odp_core_photo_links['Image Link']=odp_core_photo_links['Image Link'].str[9:]\n",
    "odp_core_photo_links['Image Link']=odp_core_photo_links['Image Link'].str.split('>',expand=True)[0].str[:-1]\n",
    "odp_core_photo_links['Filename']=odp_core_photo_links['Image Link'].str.split('/').str[-1]\n",
    "odp_core_photo_links['Site']=odp_core_photo_links['Site'].astype(int)\n",
    "odp_core_photo_links['Cor']=odp_core_photo_links['Cor'].astype(int)"
   ]
  },
  {
   "cell_type": "code",
   "execution_count": 36,
   "id": "abf07cdd-e2cf-4131-a8ea-fb8af8be0729",
   "metadata": {
    "tags": []
   },
   "outputs": [],
   "source": [
    "odp_core_photo_links.to_csv(survey_data+'odp_core_photo_links.csv',index=False)"
   ]
  },
  {
   "cell_type": "code",
   "execution_count": 37,
   "id": "b1e5cf0a-a2d0-4bb3-b2ea-c8ecd4d8da1b",
   "metadata": {
    "tags": []
   },
   "outputs": [],
   "source": [
    "odp_core_tops=odp_core_photo_links[odp_core_photo_links['Depth (mbsf)']==0].copy()\n",
    "odp_core_tops=odp_core_tops[odp_core_tops['Filename'].str.endswith('.PDF')].copy()\n",
    "odp_core_tops.to_csv(survey_data+'odp_core_tops.csv',index=False)"
   ]
  },
  {
   "cell_type": "markdown",
   "id": "4dbeae63-4c74-4eb7-a763-6aca254e87a6",
   "metadata": {
    "tags": []
   },
   "source": [
    "##### Download Core Photos"
   ]
  },
  {
   "cell_type": "code",
   "execution_count": 38,
   "id": "9e785ce5-0e9c-40c7-9028-a9c223f7c239",
   "metadata": {
    "tags": []
   },
   "outputs": [],
   "source": [
    "odp_path='//Users/danielbabin/GitHub/Green_Bands/Data/Survey/Photos/PDFs/ODP/'"
   ]
  },
  {
   "cell_type": "code",
   "execution_count": 39,
   "id": "c6e0e46d-5627-473b-8784-a6d6f722aed2",
   "metadata": {
    "tags": []
   },
   "outputs": [
    {
     "name": "stdout",
     "output_type": "stream",
     "text": [
      "1256 / 1257\n"
     ]
    }
   ],
   "source": [
    "for i,idx in enumerate(odp_core_tops.index):\n",
    "    clear_output(wait=True)\n",
    "    url=odp_core_tops.loc[idx,'Image Link']\n",
    "    filename=odp_core_tops.loc[idx,'Filename']\n",
    "    response = requests.get(url)\n",
    "    with open(odp_path+filename, 'wb') as file:\n",
    "        file.write(response.content)\n",
    "    print(i,'/',len(odp_core_tops))"
   ]
  },
  {
   "cell_type": "markdown",
   "id": "bc7eb1f7-6167-4a52-8efd-481083898736",
   "metadata": {},
   "source": [
    "### Early IODP era"
   ]
  },
  {
   "cell_type": "code",
   "execution_count": 40,
   "id": "6ead65bd-1a54-4131-ab5a-acb8cc6f9744",
   "metadata": {
    "tags": []
   },
   "outputs": [],
   "source": [
    "iodp_era_sites=sites.loc[sites['era']=='Early IODP'].copy()\n",
    "iodp_era_sites['leg']=iodp_era_sites['expedition']\n",
    "iodp_exps_sites=iodp_era_sites[['expedition','site']].drop_duplicates().iloc[1:]"
   ]
  },
  {
   "cell_type": "markdown",
   "id": "94ee6934-5745-47b9-adcb-605d8af2a4f6",
   "metadata": {},
   "source": [
    "#### Site Summaries"
   ]
  },
  {
   "cell_type": "code",
   "execution_count": 41,
   "id": "661ad5ae-e341-49b6-8722-12c9e9f66faf",
   "metadata": {
    "tags": []
   },
   "outputs": [
    {
     "name": "stdout",
     "output_type": "stream",
     "text": [
      "58 / 59\n"
     ]
    }
   ],
   "source": [
    "early_iodp_site_summaries_list=[]\n",
    "for i,idx in enumerate(iodp_exps_sites.index):\n",
    "    clear_output(wait=True)\n",
    "    leg=str(iodp_exps_sites.loc[idx,'expedition'])\n",
    "    site=str(iodp_exps_sites.loc[idx,'site'])[1:]\n",
    "    url='https://web.iodp.tamu.edu/janusweb/coring_summaries/sitesumm.cgi?leg='+leg+'&site='+site\n",
    "    try:\n",
    "        df=pd.read_csv(url, sep='\\t',header=19).iloc[:-22]\n",
    "        early_iodp_site_summaries_list.append(df)\n",
    "    except:\n",
    "        print(f\"No table found for URL: {url}\")\n",
    "    print(i,'/',len(iodp_exps_sites))\n",
    "early_iodp_site_summaries=pd.concat(early_iodp_site_summaries_list, ignore_index=True)\n",
    "early_iodp_site_summaries=early_iodp_site_summaries[early_iodp_site_summaries['Latitude   '].isnull()==False].copy()"
   ]
  },
  {
   "cell_type": "code",
   "execution_count": 42,
   "id": "e7e22ce6-f672-4fde-824a-e6330fd643b8",
   "metadata": {
    "tags": []
   },
   "outputs": [],
   "source": [
    "early_iodp_site_summaries.to_csv(survey_data+'early_iodp_site_summaries.csv',index=False)"
   ]
  },
  {
   "cell_type": "markdown",
   "id": "079b460d-306e-4adc-8e50-af991df98df4",
   "metadata": {},
   "source": [
    "#### Core Photos\n",
    "##### Download Core Photos Metadata"
   ]
  },
  {
   "cell_type": "code",
   "execution_count": 45,
   "id": "2393bea5-6c2e-4ce3-80f3-647a1b6815f8",
   "metadata": {
    "tags": []
   },
   "outputs": [
    {
     "name": "stdout",
     "output_type": "stream",
     "text": [
      "58 / 59\n"
     ]
    }
   ],
   "source": [
    "early_iodp_core_photo_links_list=[]\n",
    "for i,idx in enumerate(iodp_exps_sites.index):\n",
    "    clear_output(wait=True)\n",
    "    leg=str(iodp_exps_sites.loc[idx,'expedition'])\n",
    "    site=str(iodp_exps_sites.loc[idx,'site'])[1:]\n",
    "    url='https://web.iodp.tamu.edu/janusweb/imaging/photo.cgi?leg='+leg+'&site='+site\n",
    "    try:\n",
    "        df=pd.read_csv(url, sep='\\t',header=18)\n",
    "        early_iodp_core_photo_links_list.append(df)\n",
    "    except:\n",
    "        print(f\"No table found for URL: {url}\")\n",
    "    print(i,'/',len(iodp_exps_sites))\n",
    "early_iodp_core_photo_links = pd.concat(early_iodp_core_photo_links_list, ignore_index=True)\n",
    "early_iodp_core_photo_links=early_iodp_core_photo_links[early_iodp_core_photo_links['Site'].isnull()==False].copy()\n",
    "early_iodp_core_photo_links['Image Link']=early_iodp_core_photo_links['Image Link'].str[9:]\n",
    "early_iodp_core_photo_links['Image Link']=early_iodp_core_photo_links['Image Link'].str.split('>',expand=True)[0].str[:-1]\n",
    "early_iodp_core_photo_links['Filename']=early_iodp_core_photo_links['Image Link'].str.split('/').str[-1]\n",
    "early_iodp_core_photo_links['Site']=early_iodp_core_photo_links['Site'].astype(int)\n",
    "early_iodp_core_photo_links['Cor']=early_iodp_core_photo_links['Cor'].astype(int)"
   ]
  },
  {
   "cell_type": "code",
   "execution_count": 46,
   "id": "b210e955-e65e-4580-ace5-bc97dc9714ee",
   "metadata": {
    "tags": []
   },
   "outputs": [],
   "source": [
    "early_iodp_core_photo_links.to_csv(survey_data+'early_iodp_core_photo_links.csv',index=False)"
   ]
  },
  {
   "cell_type": "code",
   "execution_count": 47,
   "id": "de18c2c1-be02-4c89-8379-c3ebd7f42400",
   "metadata": {
    "tags": []
   },
   "outputs": [],
   "source": [
    "early_iodp_core_tops=early_iodp_core_photo_links[early_iodp_core_photo_links['Depth (mbsf)']==0].copy()\n",
    "early_iodp_core_tops=early_iodp_core_tops[early_iodp_core_tops['Filename'].str.endswith('.PDF')].copy()\n",
    "early_iodp_core_tops.to_csv(survey_data+'early_iodp_core_tops.csv',index=False)"
   ]
  },
  {
   "cell_type": "markdown",
   "id": "3e06fcc9-3553-4d3b-9c1b-6d137f1c9402",
   "metadata": {
    "tags": []
   },
   "source": [
    "##### Download Core Photos"
   ]
  },
  {
   "cell_type": "code",
   "execution_count": 48,
   "id": "f440d0cc-d42a-4af7-b2f0-fc9dec36fe78",
   "metadata": {
    "tags": []
   },
   "outputs": [],
   "source": [
    "early_iodp_path='/Users/danielbabin/GitHub/Green_Bands/Data/Survey/Photos/PDFs/EarlyIODP/'"
   ]
  },
  {
   "cell_type": "code",
   "execution_count": 50,
   "id": "cc903d5a-6a99-40ad-9174-33c2bce06015",
   "metadata": {
    "tags": []
   },
   "outputs": [
    {
     "name": "stdout",
     "output_type": "stream",
     "text": [
      "69 / 70\n"
     ]
    }
   ],
   "source": [
    "for i,idx in enumerate(early_iodp_core_tops.index):\n",
    "    clear_output(wait=True)\n",
    "    url=early_iodp_core_tops.loc[idx,'Image Link']\n",
    "    filename=early_iodp_core_tops.loc[idx,'Filename']\n",
    "    response = requests.get(url)\n",
    "    with open(early_iodp_path+filename, 'wb') as file:\n",
    "        file.write(response.content)\n",
    "    print(i,'/',len(early_iodp_core_tops))"
   ]
  },
  {
   "cell_type": "markdown",
   "id": "ad99167f-bff5-44ff-864c-f23993562c3f",
   "metadata": {},
   "source": [
    "### Modern IODP era\n",
    "Core photos from the modern IODP era are more easily downloaded in batch form from the Texas A&M database. I downloaded them and am loading them in from an external hard drive here."
   ]
  },
  {
   "cell_type": "code",
   "execution_count": 51,
   "id": "7be47d39-e5b7-46ca-810f-5199765ca779",
   "metadata": {
    "tags": []
   },
   "outputs": [],
   "source": [
    "in_path='/Volumes/SanDisk.Data/IODPSurvey/'\n",
    "out_path='/Users/danielbabin/GitHub/Green_Bands/Data/Survey/ModernIODP_Photos/'"
   ]
  },
  {
   "cell_type": "markdown",
   "id": "60268c4e-b4d6-406e-8c0c-d9b8bd8ea6b8",
   "metadata": {},
   "source": [
    "the core photo links file below is also downloaded from the IODP website."
   ]
  },
  {
   "cell_type": "code",
   "execution_count": 53,
   "id": "e07e9f44-e727-43a0-b25c-5b6df11f4e9d",
   "metadata": {
    "tags": []
   },
   "outputs": [],
   "source": [
    "modern_iodp_photos=pd.read_csv(survey_data+'modern_iodp_core_photo_links.csv')\n",
    "modern_iodp_core_tops=modern_iodp_photos[modern_iodp_photos['Top depth CSF-A (m)']==0].copy()"
   ]
  },
  {
   "cell_type": "code",
   "execution_count": 56,
   "id": "eb6194f3-6e10-43d4-93d8-9f82107d455e",
   "metadata": {
    "tags": []
   },
   "outputs": [],
   "source": [
    "files=os.listdir(in_path)\n",
    "files=files[1:]"
   ]
  },
  {
   "cell_type": "code",
   "execution_count": 57,
   "id": "782c6dd1-a56c-45bc-a058-836bf032b7c0",
   "metadata": {},
   "outputs": [],
   "source": [
    "def shrink_rotate_write(filename,shrinkfactor):\n",
    "    raw = cv.imread(in_path+filename)\n",
    "    size=raw.shape\n",
    "    newsize=tuple((int(size[1]/shrinkfactor),int(size[0]/shrinkfactor)))\n",
    "    sraw=cv.resize(raw,newsize,interpolation = cv.INTER_AREA)\n",
    "    srotraw=cv.rotate(sraw, cv.ROTATE_90_COUNTERCLOCKWISE)\n",
    "    cv.imwrite(out_path+filename,srotraw)"
   ]
  },
  {
   "cell_type": "code",
   "execution_count": 58,
   "id": "141bf9c7-be7a-44a4-b308-f5f94cdb43e1",
   "metadata": {},
   "outputs": [
    {
     "name": "stdout",
     "output_type": "stream",
     "text": [
      "Current progress:  97.84 %\n",
      "Current run time:  2.9  minutes\n",
      "Expected run time:  2.97  minutes\n"
     ]
    }
   ],
   "source": [
    "start=time.time()\n",
    "for i,s in enumerate(files):\n",
    "    clear_output(wait=True)\n",
    "    shrink_rotate_write(s,6)\n",
    "    stop=time.time()-start\n",
    "    if i/len(modern_iodp_core_tops)*100<2:\n",
    "        expected_time='Calculating...'\n",
    "    else:\n",
    "        expected_time=round((stop-0)/(i/len(modern_iodp_core_tops))/60,2)\n",
    "    print('Current progress: ',round(i/len(modern_iodp_core_tops)*100,2),'%')\n",
    "    print('Current run time: ',round((stop-0)/60,2),' minutes')\n",
    "    print('Expected run time: ',expected_time,' minutes')"
   ]
  }
 ],
 "metadata": {
  "kernelspec": {
   "display_name": "Python 3 (ipykernel)",
   "language": "python",
   "name": "python3"
  },
  "language_info": {
   "codemirror_mode": {
    "name": "ipython",
    "version": 3
   },
   "file_extension": ".py",
   "mimetype": "text/x-python",
   "name": "python",
   "nbconvert_exporter": "python",
   "pygments_lexer": "ipython3",
   "version": "3.8.18"
  }
 },
 "nbformat": 4,
 "nbformat_minor": 5
}
